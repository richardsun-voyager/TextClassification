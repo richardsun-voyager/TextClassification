{
 "cells": [
  {
   "cell_type": "markdown",
   "metadata": {},
   "source": [
    "In previous projects, we use TfIdf vectors to represent texts. However, in this project, we intend to leverage topic models, that is to represent each text with a linear combination of topics, which are also vectors.\n",
    "\n",
    "The scikit-learn version: 0.19.1\n",
    "In order to simplify the classification, instead of using 20 categories of news, we just relabeled them as 4 major categories."
   ]
  },
  {
   "cell_type": "code",
   "execution_count": 1,
   "metadata": {
    "collapsed": true
   },
   "outputs": [],
   "source": [
    "import numpy as np\n",
    "import matplotlib.pyplot as plt\n",
    "import pandas as pd\n",
    "import nltk\n",
    "%matplotlib inline"
   ]
  },
  {
   "cell_type": "code",
   "execution_count": 2,
   "metadata": {
    "collapsed": true
   },
   "outputs": [],
   "source": [
    "#Read data, those data only has for major categories\n",
    "newsgroups_train = pd.read_csv('news_train.csv')\n",
    "newsgroups_test = pd.read_csv('news_test.csv')"
   ]
  },
  {
   "cell_type": "code",
   "execution_count": 3,
   "metadata": {
    "collapsed": false
   },
   "outputs": [
    {
     "data": {
      "text/html": [
       "<div>\n",
       "<table border=\"1\" class=\"dataframe\">\n",
       "  <thead>\n",
       "    <tr style=\"text-align: right;\">\n",
       "      <th></th>\n",
       "      <th>News</th>\n",
       "      <th>Type</th>\n",
       "      <th>TypeName</th>\n",
       "    </tr>\n",
       "  </thead>\n",
       "  <tbody>\n",
       "    <tr>\n",
       "      <th>0</th>\n",
       "      <td>from eei eeiihy memo ericsson se subject help ...</td>\n",
       "      <td>1</td>\n",
       "      <td>comp.graphics</td>\n",
       "    </tr>\n",
       "    <tr>\n",
       "      <th>1</th>\n",
       "      <td>from chrism cirrus com chris metcalfe subject ...</td>\n",
       "      <td>3</td>\n",
       "      <td>comp.sys.ibm.pc.hardware</td>\n",
       "    </tr>\n",
       "    <tr>\n",
       "      <th>2</th>\n",
       "      <td>from ekr squick eitech com eric rescorla subje...</td>\n",
       "      <td>0</td>\n",
       "      <td>alt.atheism</td>\n",
       "    </tr>\n",
       "    <tr>\n",
       "      <th>3</th>\n",
       "      <td>from bruce liv ac uk bruce stephens subject re...</td>\n",
       "      <td>0</td>\n",
       "      <td>alt.atheism</td>\n",
       "    </tr>\n",
       "    <tr>\n",
       "      <th>4</th>\n",
       "      <td>from j david sms business uwo ca james david s...</td>\n",
       "      <td>2</td>\n",
       "      <td>comp.os.ms-windows.misc</td>\n",
       "    </tr>\n",
       "  </tbody>\n",
       "</table>\n",
       "</div>"
      ],
      "text/plain": [
       "                                                News  Type  \\\n",
       "0  from eei eeiihy memo ericsson se subject help ...     1   \n",
       "1  from chrism cirrus com chris metcalfe subject ...     3   \n",
       "2  from ekr squick eitech com eric rescorla subje...     0   \n",
       "3  from bruce liv ac uk bruce stephens subject re...     0   \n",
       "4  from j david sms business uwo ca james david s...     2   \n",
       "\n",
       "                   TypeName  \n",
       "0             comp.graphics  \n",
       "1  comp.sys.ibm.pc.hardware  \n",
       "2               alt.atheism  \n",
       "3               alt.atheism  \n",
       "4   comp.os.ms-windows.misc  "
      ]
     },
     "execution_count": 3,
     "metadata": {},
     "output_type": "execute_result"
    }
   ],
   "source": [
    "newsgroups_train.head()"
   ]
  },
  {
   "cell_type": "markdown",
   "metadata": {},
   "source": [
    "## 1.Get TfIdf Vectors"
   ]
  },
  {
   "cell_type": "code",
   "execution_count": 4,
   "metadata": {
    "collapsed": false
   },
   "outputs": [
    {
     "data": {
      "text/plain": [
       "(8356, 50000)"
      ]
     },
     "execution_count": 4,
     "metadata": {},
     "output_type": "execute_result"
    }
   ],
   "source": [
    "from sklearn.feature_extraction.text import TfidfVectorizer\n",
    "tfidfVectorizer = TfidfVectorizer(stop_words='english', ngram_range=(1, 1), max_features=50000)\n",
    "X_train_tfidf = tfidfVectorizer.fit_transform(newsgroups_train.News)\n",
    "X_train_tfidf.shape"
   ]
  },
  {
   "cell_type": "code",
   "execution_count": 5,
   "metadata": {
    "collapsed": false
   },
   "outputs": [
    {
     "data": {
      "text/plain": [
       "(5563, 50000)"
      ]
     },
     "execution_count": 5,
     "metadata": {},
     "output_type": "execute_result"
    }
   ],
   "source": [
    "X_test_tfidf = tfidfVectorizer.transform(newsgroups_test.News)\n",
    "X_test_tfidf.shape"
   ]
  },
  {
   "cell_type": "code",
   "execution_count": 6,
   "metadata": {
    "collapsed": true
   },
   "outputs": [],
   "source": [
    "feature_words = tfidfVectorizer.get_feature_names()"
   ]
  },
  {
   "cell_type": "markdown",
   "metadata": {},
   "source": [
    "## 2.Extract topics by NMF"
   ]
  },
  {
   "cell_type": "code",
   "execution_count": 7,
   "metadata": {
    "collapsed": true
   },
   "outputs": [],
   "source": [
    "from sklearn.decomposition import NMF, LatentDirichletAllocation\n",
    "from time import time"
   ]
  },
  {
   "cell_type": "markdown",
   "metadata": {},
   "source": [
    "### NMF Extraction\n",
    "NMF stands for \"Non-negative Matrix Factorization\", it is a dimension reduction technique. It can also be viewed as a way to extract topics from original vectors."
   ]
  },
  {
   "cell_type": "code",
   "execution_count": null,
   "metadata": {
    "collapsed": false
   },
   "outputs": [],
   "source": [
    "n_components = 30\n",
    "# Fit the NMF model, suppose there are 10 topics\n",
    "t0 = time()\n",
    "nmf = NMF(n_components=n_components, random_state=1,\n",
    "          alpha=.1, l1_ratio=.5)\n",
    "nmf.fit(X_train_tfidf)\n",
    "print(\"done in %0.3fs.\" % (time() - t0))"
   ]
  },
  {
   "cell_type": "code",
   "execution_count": 13,
   "metadata": {
    "collapsed": false
   },
   "outputs": [
    {
     "name": "stdout",
     "output_type": "stream",
     "text": [
      "The shape of the topic matrix: (10, 50000)\n",
      "[ 0.02916862  0.02697153  0.         ...,  0.          0.          0.        ]\n"
     ]
    }
   ],
   "source": [
    "print('The shape of the topic matrix:', nmf.components_.shape)\n",
    "print(nmf.components_[0, :])"
   ]
  },
  {
   "cell_type": "markdown",
   "metadata": {},
   "source": [
    "We can regard each text as a combination of weighted topic, for some topics the weight are larger whereasw some are small, and those weights can be features to represent the text. And Each topic is a combination of weights of words. Let's check the first compoent, namely the first topic."
   ]
  },
  {
   "cell_type": "code",
   "execution_count": 14,
   "metadata": {
    "collapsed": false
   },
   "outputs": [
    {
     "name": "stdout",
     "output_type": "stream",
     "text": [
      "********************\n",
      "The 0th component:\n",
      "['ca', 'subject', 'organization', 'cs', 'just', 'don', 'writes', 'article', 'university', 'edu']\n",
      "********************\n",
      "The 1th component:\n",
      "['life', 'christ', 'christian', 'faith', 'believe', 'christians', 'people', 'bible', 'jesus', 'god']\n",
      "********************\n",
      "The 2th component:\n",
      "['program', 'mouse', 'video', 'use', 'files', 'card', 'file', 'window', 'dos', 'windows']\n",
      "********************\n",
      "The 3th component:\n",
      "['manes', 'criminals', 'police', 'people', 'crime', 'control', 'weapons', 'firearms', 'guns', 'gun']\n",
      "********************\n",
      "The 4th component:\n",
      "['schneider', 'cco', 'jon', 'wpd', 'solntze', 'morality', 'sgi', 'livesey', 'caltech', 'keith']\n",
      "********************\n",
      "The 5th component:\n",
      "['sw', 'cdt', 'ibm', 'writes', 'sun', 'article', 'hp', 'stratus', 'netcom', 'com']\n",
      "********************\n",
      "The 6th component:\n",
      "['mac', 'hard', 'isa', 'drives', 'bus', 'controller', 'mb', 'drive', 'ide', 'scsi']\n",
      "********************\n",
      "The 7th component:\n",
      "['soviet', 'turkey', 'genocide', 'turks', 'serdar', 'argic', 'armenia', 'armenians', 'turkish', 'armenian']\n",
      "********************\n",
      "The 8th component:\n",
      "['lebanon', 'peace', 'jake', 'bony', 'arabs', 'lebanese', 'arab', 'jews', 'israeli', 'israel']\n",
      "********************\n",
      "The 9th component:\n",
      "['tourist', 'cookamunga', 'activities', 'com', 'alink', 'ksand', 'newton', 'apple', 'kent', 'sandvik']\n"
     ]
    }
   ],
   "source": [
    "for i, component in enumerate(nmf.components_):\n",
    "    #The most important 20 words' index\n",
    "    nlargest = component.argsort()[-10:]\n",
    "    word_list = []\n",
    "    for n in nlargest:\n",
    "        word_list.append(feature_words[n])\n",
    "    print('*'*20)\n",
    "    print('The ' + str(i) + 'th component:')\n",
    "    print(word_list)"
   ]
  },
  {
   "cell_type": "markdown",
   "metadata": {},
   "source": [
    "It looks like the last compoenent is related to computer science, whereas the second one is related to religion. Next, we can extract the features for each news."
   ]
  },
  {
   "cell_type": "code",
   "execution_count": 15,
   "metadata": {
    "collapsed": false
   },
   "outputs": [],
   "source": [
    "#Extract feature for each news\n",
    "nmf_train_features = nmf.transform(X_train_tfidf)\n",
    "nmf_test_features = nmf.transform(X_test_tfidf)"
   ]
  },
  {
   "cell_type": "code",
   "execution_count": 16,
   "metadata": {
    "collapsed": false
   },
   "outputs": [
    {
     "data": {
      "text/plain": [
       "(8356, 10)"
      ]
     },
     "execution_count": 16,
     "metadata": {},
     "output_type": "execute_result"
    }
   ],
   "source": [
    "nmf_train_features.shape"
   ]
  },
  {
   "cell_type": "code",
   "execution_count": 17,
   "metadata": {
    "collapsed": false
   },
   "outputs": [
    {
     "data": {
      "text/plain": [
       "array([ 0.01755643,  0.        ,  0.01458415,  0.        ,  0.        ,\n",
       "        0.        ,  0.        ,  0.        ,  0.        ,  0.        ])"
      ]
     },
     "execution_count": 17,
     "metadata": {},
     "output_type": "execute_result"
    }
   ],
   "source": [
    "nmf_train_features[0, :]"
   ]
  },
  {
   "cell_type": "markdown",
   "metadata": {
    "collapsed": true
   },
   "source": [
    "### Classify\n",
    "\n",
    "Based on the extracted features above, we can move forward, use machine learning algorithms to classify those news."
   ]
  },
  {
   "cell_type": "code",
   "execution_count": 18,
   "metadata": {
    "collapsed": false
   },
   "outputs": [],
   "source": [
    "from sklearn.neighbors import KNeighborsClassifier\n",
    "from sklearn.metrics import f1_score\n",
    "knn = KNeighborsClassifier(n_neighbors=20,weights='distance')\n",
    "knn.fit(nmf_train_features, newsgroups_train.Type)\n",
    "predicted = knn.predict(nmf_test_features)"
   ]
  },
  {
   "cell_type": "code",
   "execution_count": 19,
   "metadata": {
    "collapsed": false
   },
   "outputs": [
    {
     "name": "stdout",
     "output_type": "stream",
     "text": [
      "Micro F1: 0.804\n"
     ]
    }
   ],
   "source": [
    "print('Micro F1: {:.3f}'.format(f1_score(newsgroups_test.Type, predicted, average='micro')))"
   ]
  },
  {
   "cell_type": "markdown",
   "metadata": {
    "collapsed": true
   },
   "source": [
    "The result is not satisfying, in order to select proper parameters and proper models we need to put two steps together and make a pipeline."
   ]
  },
  {
   "cell_type": "markdown",
   "metadata": {},
   "source": [
    "### Pipeline"
   ]
  },
  {
   "cell_type": "code",
   "execution_count": 20,
   "metadata": {
    "collapsed": false,
    "scrolled": true
   },
   "outputs": [],
   "source": [
    "from sklearn.pipeline import make_pipeline\n",
    "#Load classification Models\n",
    "from sklearn.svm import SVC\n",
    "from sklearn.naive_bayes import MultinomialNB\n",
    "from sklearn.ensemble import RandomForestClassifier\n",
    "from sklearn.linear_model import LogisticRegression\n",
    "from sklearn.neural_network import MLPClassifier\n",
    "from sklearn.discriminant_analysis import LinearDiscriminantAnalysis\n",
    "mlp = MLPClassifier(hidden_layer_sizes=(100,), max_iter=300, alpha=1e-4,\n",
    "                    solver='sgd', verbose=False, tol=1e-5, random_state=1,\n",
    "                    learning_rate_init=.17)\n",
    "nb = MultinomialNB(0.01)\n",
    "lr = LogisticRegression(C=0.5)\n",
    "rf =  RandomForestClassifier(n_estimators=100, n_jobs=4)\n",
    "svc = SVC(C=0.5)\n",
    "ld = LinearDiscriminantAnalysis(solver='lsqr', shrinkage='auto')\n",
    "models = [nb, lr, rf, svc, ld, mlp]"
   ]
  },
  {
   "cell_type": "code",
   "execution_count": 21,
   "metadata": {
    "collapsed": true
   },
   "outputs": [],
   "source": [
    "def make_plot(training_scores, testing_scores, title):\n",
    "    '''Make plots'''\n",
    "    plt.title(title)\n",
    "    plt.plot(training_scores, marker='.', label='Training Score')\n",
    "    plt.plot(testing_scores, marker='.', label='Testing Score')\n",
    "    plt.legend()\n",
    "    plt.ylabel('f1_score')"
   ]
  },
  {
   "cell_type": "code",
   "execution_count": 112,
   "metadata": {
    "collapsed": false
   },
   "outputs": [
    {
     "name": "stdout",
     "output_type": "stream",
     "text": [
      "Start to run <class 'sklearn.naive_bayes.MultinomialNB'>\n",
      "Start to run <class 'sklearn.linear_model.logistic.LogisticRegression'>\n",
      "Start to run <class 'sklearn.ensemble.forest.RandomForestClassifier'>\n",
      "Start to run <class 'sklearn.svm.classes.SVC'>\n",
      "Start to run <class 'sklearn.discriminant_analysis.LinearDiscriminantAnalysis'>\n",
      "Start to run <class 'sklearn.neural_network.multilayer_perceptron.MLPClassifier'>\n"
     ]
    },
    {
     "data": {
      "image/png": "[encoded data removed]",
      "text/plain": [
       "<matplotlib.figure.Figure at 0x1ca879d7518>"
      ]
     },
     "metadata": {},
     "output_type": "display_data"
    }
   ],
   "source": [
    "#Specify the number of topics\n",
    "n_components = [10, 20, 30, 40, 50, 60]\n",
    "#Traverse each \n",
    "plt.figure(figsize=(10, 12))\n",
    "for i, model in enumerate(models):\n",
    "    train_scores = []\n",
    "    test_scores = []\n",
    "    print('Start to run', str(model.__class__))\n",
    "    for n_component in n_components:\n",
    "        nmf = NMF(n_components=n_component, random_state=1,\n",
    "                  alpha=.1, l1_ratio=.5)\n",
    "       #Make pipeline to simplify code\n",
    "        pipeline = make_pipeline(nmf, model)\n",
    "        pipeline.fit(X_train_tfidf, newsgroups_train.Type)\n",
    "        train_pred = pipeline.predict(X_train_tfidf)\n",
    "        test_pred = pipeline.predict(X_test_tfidf)\n",
    "        test_scores.append(f1_score(newsgroups_test.Type, test_pred, average='micro'))\n",
    "        train_scores.append(f1_score(newsgroups_train.Type, train_pred, average='micro'))\n",
    "    plt.subplot(3, 2 , i+1)\n",
    "    title = str(model.__class__).replace(\"'>\", '').split('.')[-1]\n",
    "    make_plot(train_scores, test_scores, title)  \n",
    "    plt.axis((0, 6, 0, 1))\n",
    "    plt.tight_layout() "
   ]
  },
  {
   "cell_type": "markdown",
   "metadata": {
    "collapsed": true
   },
   "source": [
    "## 3.Extract topics by LDA"
   ]
  },
  {
   "cell_type": "code",
   "execution_count": 25,
   "metadata": {
    "collapsed": false
   },
   "outputs": [
    {
     "data": {
      "text/plain": [
       "LatentDirichletAllocation(batch_size=128, doc_topic_prior=None,\n",
       "             evaluate_every=-1, learning_decay=0.7,\n",
       "             learning_method='online', learning_offset=50.0,\n",
       "             max_doc_update_iter=100, max_iter=5, mean_change_tol=0.001,\n",
       "             n_components=10, n_jobs=1, n_topics=None, perp_tol=0.1,\n",
       "             random_state=0, topic_word_prior=None,\n",
       "             total_samples=1000000.0, verbose=0)"
      ]
     },
     "execution_count": 25,
     "metadata": {},
     "output_type": "execute_result"
    }
   ],
   "source": [
    "lda = LatentDirichletAllocation(n_components =10, max_iter=5,\n",
    "                                learning_method='online',\n",
    "                                learning_offset=50.,\n",
    "                                random_state=0)\n",
    "lda.fit(X_train_tfidf)"
   ]
  },
  {
   "cell_type": "code",
   "execution_count": 26,
   "metadata": {
    "collapsed": false
   },
   "outputs": [
    {
     "name": "stdout",
     "output_type": "stream",
     "text": [
      "********************\n",
      "The 0th component:\n",
      "['steinbakken', 'kadar', 'ordularinin', 'rus', 'enviroleague', 'idca', 'crnsu', 'apeldoorn', 'aruit', 'ruiter']\n",
      "********************\n",
      "The 1th component:\n",
      "['lippard', 'syllogism', 'gm', 'sculptor', 'franz', 'colorado', 'edu', 'forging', 'schewe', 'reprints']\n",
      "********************\n",
      "The 2th component:\n",
      "['kent', 'jan', 'teen', 'sandvik', 'colvin', 'cdcolvin', 'venkatesh', 'simha', 'rao', 'xrn']\n",
      "********************\n",
      "The 3th component:\n",
      "['ldawes', 'valpso', 'livy', 'rubenstein', 'manfredo', 'tpeng', 'acsddc', 'smucs', 'tichauer', 'umassd']\n",
      "********************\n",
      "The 4th component:\n",
      "['carmo', 'abel', 'riv', 'hkuxa', 'max', 'hku', 'antolovich', 'wagga', 'developable', 'ax']\n",
      "********************\n",
      "The 5th component:\n",
      "['sturm', 'schauf', 'jearls', 'earls', 'lutz', 'burkhard', 'nestvx', 'neidecker', 'bucknell', 'schaufenbuel']\n",
      "********************\n",
      "The 6th component:\n",
      "['varco', 'screamin', 'muenster', 'heinz', 'bobasun', 'bshaw', 'jessea', 'essen', 'xon', 'claes']\n",
      "********************\n",
      "The 7th component:\n",
      "['camrose', 'eabu', 'sedv', 'bjorndahl', 'augustana', 'aamir', 'injector', 'jwg', 'acd', 'qazi']\n",
      "********************\n",
      "The 8th component:\n",
      "['koennten', 'ardeystr', 'dietmar', 'erledigen', 'wpafb', 'dipl', 'klute', 'phonetic', 'weidlich', 'dortmund']\n",
      "********************\n",
      "The 9th component:\n",
      "['people', 'don', 'university', 'article', 'writes', 'organization', 'lines', 'subject', 'com', 'edu']\n"
     ]
    }
   ],
   "source": [
    "#Check the most important words within each topic,namely each component\n",
    "for i, component in enumerate(lda.components_):\n",
    "    #The most important 20 words' index\n",
    "    nlargest = component.argsort()[-10:]\n",
    "    word_list = []\n",
    "    for n in nlargest:\n",
    "        word_list.append(feature_words[n])\n",
    "    print('*'*20)\n",
    "    print('The ' + str(i) + 'th component:')\n",
    "    print(word_list)"
   ]
  },
  {
   "cell_type": "markdown",
   "metadata": {},
   "source": [
    "### Make a pipeline\n",
    "\n",
    "Next, we will put LDA and classification models together."
   ]
  },
  {
   "cell_type": "code",
   "execution_count": 29,
   "metadata": {
    "collapsed": false
   },
   "outputs": [
    {
     "name": "stdout",
     "output_type": "stream",
     "text": [
      "Start to run <class 'sklearn.naive_bayes.MultinomialNB'>\n",
      "Start to run <class 'sklearn.linear_model.logistic.LogisticRegression'>\n",
      "Start to run <class 'sklearn.ensemble.forest.RandomForestClassifier'>\n",
      "Start to run <class 'sklearn.svm.classes.SVC'>\n",
      "Start to run <class 'sklearn.discriminant_analysis.LinearDiscriminantAnalysis'>\n",
      "Start to run <class 'sklearn.neural_network.multilayer_perceptron.MLPClassifier'>\n"
     ]
    },
    {
     "data": {
      "image/png": "[encoded data removed]",
      "text/plain": [
       "<matplotlib.figure.Figure at 0x2a8008611d0>"
      ]
     },
     "metadata": {},
     "output_type": "display_data"
    }
   ],
   "source": [
    "#Specify the number of topics\n",
    "n_components = [10, 20, 30, 40, 50, 60]\n",
    "#Traverse each \n",
    "plt.figure(figsize=(10, 12))\n",
    "for i, model in enumerate(models):\n",
    "    train_scores = []\n",
    "    test_scores = []\n",
    "    print('Start to run', str(model.__class__))\n",
    "    for n_component in n_components:\n",
    "        lda = LatentDirichletAllocation(n_components =n_component, max_iter=10,\n",
    "                                learning_method='online',\n",
    "                                learning_offset=50.,\n",
    "                                random_state=0)\n",
    "       #Make pipeline to simplify code\n",
    "        pipeline = make_pipeline(lda, model)\n",
    "        pipeline.fit(X_train_tfidf, newsgroups_train.Type)\n",
    "        train_pred = pipeline.predict(X_train_tfidf)\n",
    "        test_pred = pipeline.predict(X_test_tfidf)\n",
    "        test_scores.append(f1_score(newsgroups_test.Type, test_pred, average='micro'))\n",
    "        train_scores.append(f1_score(newsgroups_train.Type, train_pred, average='micro'))\n",
    "    plt.subplot(3, 2 , i+1)\n",
    "    title = str(model.__class__).replace(\"'>\", '').split('.')[-1]\n",
    "    make_plot(train_scores, test_scores, title) \n",
    "    plt.axis((0, 6, 0, 1))\n",
    "    plt.tight_layout() "
   ]
  },
  {
   "cell_type": "markdown",
   "metadata": {
    "collapsed": true
   },
   "source": [
    "It seems the topic models do not work so well as previous bag-of-word model, perhaps due to the noise in the texts, and the text are quite complicated."
   ]
  },
  {
   "cell_type": "code",
   "execution_count": null,
   "metadata": {
    "collapsed": true
   },
   "outputs": [],
   "source": []
  }
 ],
 "metadata": {
  "anaconda-cloud": {},
  "kernelspec": {
   "display_name": "Python 3",
   "language": "python",
   "name": "python3"
  },
  "language_info": {
   "codemirror_mode": {
    "name": "ipython",
    "version": 3
   },
   "file_extension": ".py",
   "mimetype": "text/x-python",
   "name": "python",
   "nbconvert_exporter": "python",
   "pygments_lexer": "ipython3",
   "version": "3.6.0"
  }
 },
 "nbformat": 4,
 "nbformat_minor": 1
}
