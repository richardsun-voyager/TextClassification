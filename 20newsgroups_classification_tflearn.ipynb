{
 "cells": [
  {
   "cell_type": "code",
   "execution_count": 1,
   "metadata": {
    "collapsed": false
   },
   "outputs": [],
   "source": [
    "import numpy as np\n",
    "import matplotlib.pyplot as plt\n",
    "import nltk\n",
    "%matplotlib inline"
   ]
  },
  {
   "cell_type": "markdown",
   "metadata": {},
   "source": [
    "# 1.Fetch 20Newsgroup Data"
   ]
  },
  {
   "cell_type": "code",
   "execution_count": 2,
   "metadata": {
    "collapsed": false
   },
   "outputs": [],
   "source": [
    "from sklearn.datasets import fetch_20newsgroups\n",
    "newsgroups_train = fetch_20newsgroups(subset='train', remove=('headers', 'footers', 'quotes'),\n",
    "                                  shuffle=True, random_state=11)\n",
    "newsgroups_test = fetch_20newsgroups(subset='test', remove=('headers', 'footers', 'quotes'),\n",
    "                                  shuffle=True, random_state=11)"
   ]
  },
  {
   "cell_type": "code",
   "execution_count": 3,
   "metadata": {
    "collapsed": false
   },
   "outputs": [
    {
     "name": "stdout",
     "output_type": "stream",
     "text": [
      "Training text number: 11314\n",
      "Testing text number: 7532\n"
     ]
    }
   ],
   "source": [
    "print('Training text number:', len(newsgroups_train.data))\n",
    "print('Testing text number:', len(newsgroups_test.data))"
   ]
  },
  {
   "cell_type": "code",
   "execution_count": 4,
   "metadata": {
    "collapsed": false
   },
   "outputs": [
    {
     "name": "stdout",
     "output_type": "stream",
     "text": [
      "Type: comp.windows.x\n",
      "####################\n",
      "--- Received from EEI.EEIIHY  353-1-2800455         93-04-26 12.28\n",
      "  -> VAX.XPERT..EXPO.LCS.MIT.EDU..INET\n",
      "  -: - - - - - - - - - - > MAIL USER IN VAX AND INTERNET\n",
      "help\n",
      "\n",
      "\n"
     ]
    }
   ],
   "source": [
    "index = 0\n",
    "label = newsgroups_train.target[index]\n",
    "print(\"Type:\",newsgroups_train.target_names[label])\n",
    "print('#' * 20)\n",
    "print(\"\\n\".join(newsgroups_train.data[index].split(\"\\n\")))"
   ]
  },
  {
   "cell_type": "markdown",
   "metadata": {},
   "source": [
    "# 2.Preprocessing"
   ]
  },
  {
   "cell_type": "code",
   "execution_count": 5,
   "metadata": {
    "collapsed": false
   },
   "outputs": [],
   "source": [
    "#Remove extra blanks, punctuation, digits from original texts\n",
    "import string\n",
    "import re\n",
    "def preProcessor(s):\n",
    "    #s = s.encode('utf-8')\n",
    "\n",
    "    #remove punctuation\n",
    "    s = re.sub('['+string.punctuation+']', ' ', s)\n",
    "    #remove digits\n",
    "    s = re.sub('['+string.digits+']', ' ', s)\n",
    "    #remove foreign characters\n",
    "    s = re.sub('[^a-zA-Z]', ' ', s)\n",
    "    #remove line ends\n",
    "    s = re.sub('\\n', ' ', s)\n",
    "    #turn to lower case\n",
    "    s = s.lower()\n",
    "    #remove stopwords\n",
    "    #for item in stopwords:\n",
    "        #s = s.replace(item, ' ') \n",
    "    #remove extra blanks\n",
    "    s = re.sub('[ ]+',' ', s)\n",
    "    s = s.rstrip()\n",
    "\n",
    "    #s = s.translate(string.punctuation)\n",
    "\n",
    "    return s"
   ]
  },
  {
   "cell_type": "code",
   "execution_count": 6,
   "metadata": {
    "collapsed": false
   },
   "outputs": [
    {
     "data": {
      "text/plain": [
       "' received from eei eeiihy vax xpert expo lcs mit edu inet mail user in vax and internet help'"
      ]
     },
     "execution_count": 6,
     "metadata": {},
     "output_type": "execute_result"
    }
   ],
   "source": [
    "preProcessor(newsgroups_train.data[0])"
   ]
  },
  {
   "cell_type": "markdown",
   "metadata": {},
   "source": [
    "Preprocess each piece of news."
   ]
  },
  {
   "cell_type": "code",
   "execution_count": 8,
   "metadata": {
    "collapsed": true
   },
   "outputs": [],
   "source": [
    "newsgroups_train.data = [preProcessor(item) for item in newsgroups_train.data]\n",
    "newsgroups_test.data = [preProcessor(item) for item in newsgroups_test.data]"
   ]
  },
  {
   "cell_type": "code",
   "execution_count": 10,
   "metadata": {
    "collapsed": false
   },
   "outputs": [
    {
     "data": {
      "text/plain": [
       "<matplotlib.text.Text at 0x224d85c18d0>"
      ]
     },
     "execution_count": 10,
     "metadata": {},
     "output_type": "execute_result"
    },
    {
     "data": {
      "image/png": "[encoded data removed]",
      "text/plain": [
       "<matplotlib.figure.Figure at 0x224d86e6be0>"
      ]
     },
     "metadata": {},
     "output_type": "display_data"
    }
   ],
   "source": [
    "#Calculate the character lengths for each piece of news\n",
    "char_lens =  [len(item) for item in newsgroups_train.data]\n",
    "plt.hist(char_lens, bins=30)\n",
    "plt.title('News Char Length Histogram')"
   ]
  },
  {
   "cell_type": "markdown",
   "metadata": {},
   "source": [
    "Most news has a length of less than 5000 characters."
   ]
  },
  {
   "cell_type": "code",
   "execution_count": 11,
   "metadata": {
    "collapsed": false
   },
   "outputs": [
    {
     "data": {
      "text/plain": [
       "<matplotlib.text.Text at 0x224d8a620f0>"
      ]
     },
     "execution_count": 11,
     "metadata": {},
     "output_type": "execute_result"
    },
    {
     "data": {
      "image/png": "[encoded data removed]",
      "text/plain": [
       "<matplotlib.figure.Figure at 0x224d89b07b8>"
      ]
     },
     "metadata": {},
     "output_type": "display_data"
    }
   ],
   "source": [
    "seq_len_train = [len(item.split()) for item in newsgroups_train.data]\n",
    "seq_len_test = [len(item.split()) for item in newsgroups_test.data]\n",
    "#Make a boxplot\n",
    "plt.boxplot(seq_len_train, sym='')\n",
    "plt.title('Word Counts Boxplot')"
   ]
  },
  {
   "cell_type": "code",
   "execution_count": 12,
   "metadata": {
    "collapsed": false
   },
   "outputs": [
    {
     "data": {
      "text/plain": [
       "array([   9.,   41.,   84.,  567.])"
      ]
     },
     "execution_count": 12,
     "metadata": {},
     "output_type": "execute_result"
    }
   ],
   "source": [
    "np.percentile(seq_len_train, [5, 25, 50, 95])"
   ]
  },
  {
   "cell_type": "markdown",
   "metadata": {},
   "source": [
    "The majority of news has less than 350 words. "
   ]
  },
  {
   "cell_type": "code",
   "execution_count": 13,
   "metadata": {
    "collapsed": true
   },
   "outputs": [],
   "source": [
    "#Filter out those very long or very short news\n",
    "train_data = []\n",
    "train_label = []\n",
    "test_data = []\n",
    "test_label = []\n",
    "for i, news in enumerate(newsgroups_train.data):\n",
    "    if seq_len_train[i] > 10 and seq_len_train[i] < 400:\n",
    "        train_data.append(news)\n",
    "        train_label.append(newsgroups_train.target[i])\n",
    "for i, news in enumerate(newsgroups_test.data):\n",
    "    if seq_len_test[i] > 10 and seq_len_test[i] < 400:\n",
    "        test_data.append(news)\n",
    "        test_label.append(newsgroups_train.target[i])"
   ]
  },
  {
   "cell_type": "markdown",
   "metadata": {
    "collapsed": true
   },
   "source": [
    "## 3.Word2Vec Model"
   ]
  },
  {
   "cell_type": "code",
   "execution_count": 14,
   "metadata": {
    "collapsed": false
   },
   "outputs": [],
   "source": [
    "#import pandas\n",
    "import tensorflow as tf\n",
    "learn = tf.contrib.learn\n",
    "from tensorflow.contrib.layers.python.layers import encoders\n",
    "from tensorflow.contrib.learn.python.learn.estimators import model_fn as model_fn_lib"
   ]
  },
  {
   "cell_type": "code",
   "execution_count": 15,
   "metadata": {
    "collapsed": true
   },
   "outputs": [],
   "source": [
    "MAX_DOCUMENT_LENGTH = 400\n",
    "EMBEDDING_SIZE = 50\n",
    "n_words = 0"
   ]
  },
  {
   "cell_type": "code",
   "execution_count": 24,
   "metadata": {
    "collapsed": false
   },
   "outputs": [
    {
     "name": "stdout",
     "output_type": "stream",
     "text": [
      "Total words: 17560\n"
     ]
    }
   ],
   "source": [
    "vocab_processor = learn.preprocessing.VocabularyProcessor(MAX_DOCUMENT_LENGTH, min_frequency=2)\n",
    "x_train = np.array(list(vocab_processor.fit_transform(train_data)))\n",
    "x_test = np.array(list(vocab_processor.transform(test_data)))\n",
    "y_train = np.array(train_label)\n",
    "y_test = np.array(test_label)\n",
    "n_words = len(vocab_processor.vocabulary_)\n",
    "print('Total words: %d' % n_words)"
   ]
  },
  {
   "cell_type": "code",
   "execution_count": 25,
   "metadata": {
    "collapsed": false
   },
   "outputs": [],
   "source": [
    "#Trim the lens, so the maximum lengs of each article is below MAX_DOCUMENT_LENGTH\n",
    "seq_len_train_trim = [MAX_DOCUMENT_LENGTH if l>MAX_DOCUMENT_LENGTH else l for l in seq_len_train ]\n",
    "seq_len_test_trim = [MAX_DOCUMENT_LENGTH if l>MAX_DOCUMENT_LENGTH else l for l in seq_len_test ]"
   ]
  },
  {
   "cell_type": "code",
   "execution_count": 26,
   "metadata": {
    "collapsed": false
   },
   "outputs": [
    {
     "data": {
      "text/plain": [
       "(9781, 400)"
      ]
     },
     "execution_count": 26,
     "metadata": {},
     "output_type": "execute_result"
    }
   ],
   "source": [
    "x_train.shape"
   ]
  },
  {
   "cell_type": "code",
   "execution_count": 27,
   "metadata": {
    "collapsed": false
   },
   "outputs": [
    {
     "data": {
      "text/plain": [
       "9781"
      ]
     },
     "execution_count": 27,
     "metadata": {},
     "output_type": "execute_result"
    }
   ],
   "source": [
    "len(y_train)"
   ]
  },
  {
   "cell_type": "code",
   "execution_count": 30,
   "metadata": {
    "collapsed": false
   },
   "outputs": [],
   "source": [
    "from keras.preprocessing import sequence\n",
    "from keras.models import Sequential\n",
    "from keras.layers import Dense, Embedding\n",
    "from keras.layers import LSTM\n",
    "from keras.utils.np_utils import to_categorical\n",
    "\n",
    "y_train = to_categorical(y_train, num_classes=20)\n",
    "y_test = to_categorical(y_test, num_classes=20)"
   ]
  },
  {
   "cell_type": "code",
   "execution_count": 37,
   "metadata": {
    "collapsed": false
   },
   "outputs": [
    {
     "name": "stdout",
     "output_type": "stream",
     "text": [
      "Build model...\n",
      "Train...\n",
      "Train on 9781 samples, validate on 6501 samples\n",
      "Epoch 1/5\n",
      "9781/9781 [==============================] - 142s - loss: 2.9895 - acc: 0.0557 - val_loss: 2.9901 - val_acc: 0.0541\n",
      "Epoch 2/5\n",
      "9781/9781 [==============================] - 147s - loss: 2.9875 - acc: 0.0585 - val_loss: 2.9904 - val_acc: 0.0535\n",
      "Epoch 3/5\n",
      "9781/9781 [==============================] - 180s - loss: 2.9870 - acc: 0.0548 - val_loss: 2.9892 - val_acc: 0.0535\n",
      "Epoch 4/5\n",
      "9781/9781 [==============================] - 247s - loss: 2.9866 - acc: 0.0547 - val_loss: 2.9901 - val_acc: 0.0535\n",
      "Epoch 5/5\n",
      "9781/9781 [==============================] - 243s - loss: 2.9865 - acc: 0.0539 - val_loss: 2.9890 - val_acc: 0.0535\n"
     ]
    },
    {
     "data": {
      "text/plain": [
       "<keras.callbacks.History at 0x2248753e588>"
      ]
     },
     "execution_count": 37,
     "metadata": {},
     "output_type": "execute_result"
    }
   ],
   "source": [
    "print('Build model...')\n",
    "model = Sequential()\n",
    "model.add(Embedding(n_words, EMBEDDING_SIZE))\n",
    "model.add(LSTM(EMBEDDING_SIZE, dropout=0.2, recurrent_dropout=0.2))\n",
    "model.add(Dense(50))\n",
    "model.add(Dense(20, activation='softmax'))\n",
    "\n",
    "# try using different optimizers and different optimizer configs\n",
    "model.compile(loss='categorical_crossentropy',\n",
    "              optimizer='adam',\n",
    "              metrics=['accuracy'])\n",
    "\n",
    "print('Train...')\n",
    "model.fit(x_train, y_train,\n",
    "          batch_size=128,\n",
    "          epochs=5,\n",
    "          validation_data=(x_test, y_test))\n"
   ]
  },
  {
   "cell_type": "code",
   "execution_count": 38,
   "metadata": {
    "collapsed": false
   },
   "outputs": [
    {
     "name": "stdout",
     "output_type": "stream",
     "text": [
      "6501/6501 [==============================] - 22s    \n",
      "Test score: 2.98903480913\n",
      "Test accuracy: 0.0535302261262\n"
     ]
    }
   ],
   "source": [
    "score, acc = model.evaluate(x_test, y_test,\n",
    "                            batch_size=128)\n",
    "print('Test score:', score)\n",
    "print('Test accuracy:', acc)"
   ]
  },
  {
   "cell_type": "markdown",
   "metadata": {},
   "source": [
    "### Bag of Words Model"
   ]
  },
  {
   "cell_type": "code",
   "execution_count": 31,
   "metadata": {
    "collapsed": false
   },
   "outputs": [],
   "source": [
    "def bag_of_words_model(features, target, mode):\n",
    "  \"\"\"词袋子模型，将文章看成单词集合，忽视先后顺序\"\"\"   \n",
    "  #one-hot转换\n",
    "  target_1hot = tf.one_hot(indices=target, depth=20, on_value=1, off_value=0)\n",
    "  #计算每篇文章的bow向量\n",
    "  features = encoders.bow_encoder(\n",
    "      features, vocab_size=n_words, embed_dim=EMBEDDING_SIZE)\n",
    "  #全连接层\n",
    "  logits = tf.contrib.layers.fully_connected(features, 20, activation_fn=None)\n",
    "  #预测值\n",
    "  predictions = tf.argmax(logits, 1)\n",
    "  predictions_dict = {'class': predictions, 'prob': tf.nn.softmax(logits)}\n",
    "  #损失函数\n",
    "  loss = tf.contrib.losses.softmax_cross_entropy(logits, target_1hot)\n",
    "  #额外的指标\n",
    "  eval_metric_ops = {\n",
    "      'accuracy': tf.metrics.accuracy(\n",
    "          target, predictions)\n",
    "  }\n",
    "\n",
    "  train_op = tf.contrib.layers.optimize_loss(\n",
    "      loss,\n",
    "      tf.contrib.framework.get_global_step(),\n",
    "      optimizer='Adam',\n",
    "      learning_rate=0.01)\n",
    "    \n",
    "  result = model_fn_lib.ModelFnOps(\n",
    "      mode=mode,\n",
    "      predictions=predictions_dict,\n",
    "      loss=loss,\n",
    "      train_op=train_op,\n",
    "      eval_metric_ops=eval_metric_ops)\n",
    "  return result"
   ]
  },
  {
   "cell_type": "code",
   "execution_count": 32,
   "metadata": {
    "collapsed": false
   },
   "outputs": [
    {
     "name": "stdout",
     "output_type": "stream",
     "text": [
      "INFO:tensorflow:Using default config.\n",
      "INFO:tensorflow:Using config: {'_save_checkpoints_secs': 600, '_save_summary_steps': 100, '_save_checkpoints_steps': None, '_task_type': None, '_environment': 'local', '_task_id': 0, '_keep_checkpoint_every_n_hours': 10000, '_keep_checkpoint_max': 5, '_cluster_spec': <tensorflow.python.training.server_lib.ClusterSpec object at 0x000002CF85CEA470>, '_master': '', '_tf_random_seed': None, '_evaluation_master': '', '_is_chief': True, '_tf_config': gpu_options {\n",
      "  per_process_gpu_memory_fraction: 1\n",
      "}\n",
      ", '_num_ps_replicas': 0}\n"
     ]
    }
   ],
   "source": [
    "model_fn = bag_of_words_model\n",
    "classifier = learn.Estimator(model_fn=model_fn, model_dir='bow/')"
   ]
  },
  {
   "cell_type": "code",
   "execution_count": 33,
   "metadata": {
    "collapsed": true
   },
   "outputs": [],
   "source": [
    "#classifier.fit(x_train, y_train, steps=6)\n",
    "# Instantiate Estimator\n",
    "def get_train_inputs():\n",
    "    x = tf.constant(x_train)\n",
    "    y = tf.constant(y_train)\n",
    "    return x, y"
   ]
  },
  {
   "cell_type": "code",
   "execution_count": null,
   "metadata": {
    "collapsed": false
   },
   "outputs": [
    {
     "name": "stdout",
     "output_type": "stream",
     "text": [
      "WARNING:tensorflow:From <ipython-input-31-d349707f7847>:14: softmax_cross_entropy (from tensorflow.contrib.losses.python.losses.loss_ops) is deprecated and will be removed after 2016-12-30.\n",
      "Instructions for updating:\n",
      "Use tf.losses.softmax_cross_entropy instead.\n",
      "WARNING:tensorflow:From C:\\Program Files\\Anaconda3\\lib\\site-packages\\tensorflow\\contrib\\losses\\python\\losses\\loss_ops.py:394: compute_weighted_loss (from tensorflow.contrib.losses.python.losses.loss_ops) is deprecated and will be removed after 2016-12-30.\n",
      "Instructions for updating:\n",
      "Use tf.losses.compute_weighted_loss instead.\n",
      "WARNING:tensorflow:From C:\\Program Files\\Anaconda3\\lib\\site-packages\\tensorflow\\contrib\\losses\\python\\losses\\loss_ops.py:151: add_loss (from tensorflow.contrib.losses.python.losses.loss_ops) is deprecated and will be removed after 2016-12-30.\n",
      "Instructions for updating:\n",
      "Use tf.losses.add_loss instead.\n",
      "INFO:tensorflow:Create CheckpointSaverHook.\n",
      "INFO:tensorflow:Saving checkpoints for 1 into bow/model.ckpt.\n"
     ]
    }
   ],
   "source": [
    "# Fit\n",
    "classifier.fit(input_fn=get_train_inputs, steps=300)"
   ]
  },
  {
   "cell_type": "code",
   "execution_count": 35,
   "metadata": {
    "collapsed": true
   },
   "outputs": [],
   "source": [
    "# Score accuracy\n",
    "def get_test_inputs():\n",
    "    x = tf.constant(x_test)\n",
    "    y = tf.constant(y_test)\n",
    "    return x, y\n"
   ]
  },
  {
   "cell_type": "code",
   "execution_count": 129,
   "metadata": {
    "collapsed": false
   },
   "outputs": [
    {
     "name": "stdout",
     "output_type": "stream",
     "text": [
      "WARNING:tensorflow:From <ipython-input-122-d349707f7847>:14: softmax_cross_entropy (from tensorflow.contrib.losses.python.losses.loss_ops) is deprecated and will be removed after 2016-12-30.\n",
      "Instructions for updating:\n",
      "Use tf.losses.softmax_cross_entropy instead.\n",
      "WARNING:tensorflow:From /Users/richardsun/anaconda3/lib/python3.6/site-packages/tensorflow/contrib/losses/python/losses/loss_ops.py:394: compute_weighted_loss (from tensorflow.contrib.losses.python.losses.loss_ops) is deprecated and will be removed after 2016-12-30.\n",
      "Instructions for updating:\n",
      "Use tf.losses.compute_weighted_loss instead.\n",
      "WARNING:tensorflow:From /Users/richardsun/anaconda3/lib/python3.6/site-packages/tensorflow/contrib/losses/python/losses/loss_ops.py:151: add_loss (from tensorflow.contrib.losses.python.losses.loss_ops) is deprecated and will be removed after 2016-12-30.\n",
      "Instructions for updating:\n",
      "Use tf.losses.add_loss instead.\n",
      "INFO:tensorflow:Starting evaluation at 2017-05-08-03:23:55\n",
      "INFO:tensorflow:Evaluation [1/1]\n",
      "INFO:tensorflow:Finished evaluation at 2017-05-08-03:23:56\n",
      "INFO:tensorflow:Saving dict for global step 300: accuracy = 0.830589, global_step = 300, loss = 0.629024\n",
      "WARNING:tensorflow:Skipping summary for global_step, must be a float or np.float32.\n"
     ]
    }
   ],
   "source": [
    "#y_predicted = [\n",
    "    #p['class'] for p in classifier.predict(\n",
    "        #x_test, as_iterable=True)]\n",
    "\n",
    "ev = classifier.evaluate(input_fn=get_test_inputs, steps=1)"
   ]
  },
  {
   "cell_type": "code",
   "execution_count": 134,
   "metadata": {
    "collapsed": false
   },
   "outputs": [
    {
     "name": "stdout",
     "output_type": "stream",
     "text": [
      "Classification Accuracy:  0.8306\n"
     ]
    }
   ],
   "source": [
    "print('Classification Accuracy: ', round(ev['accuracy'], 4))"
   ]
  },
  {
   "cell_type": "code",
   "execution_count": 128,
   "metadata": {
    "collapsed": false
   },
   "outputs": [
    {
     "name": "stdout",
     "output_type": "stream",
     "text": [
      "Accuracy: 0.830589\n"
     ]
    }
   ],
   "source": [
    "#from sklearn import metrics\n",
    "#score = metrics.accuracy_score(newsgroups_test.target, y_predicted)\n",
    "#print('Accuracy: {0:f}'.format(score))"
   ]
  },
  {
   "cell_type": "markdown",
   "metadata": {},
   "source": [
    "### RNN Model"
   ]
  },
  {
   "cell_type": "code",
   "execution_count": 54,
   "metadata": {
    "collapsed": false
   },
   "outputs": [],
   "source": [
    "#from tensorflow.contrib import rnn\n",
    "def rnn_model(features, target, mode):\n",
    "  \"\"\"RNN model to predict from sequence of words to a class.\"\"\"\n",
    "  # Convert indexes of words into embeddings.\n",
    "  # This creates embeddings matrix of [n_words, EMBEDDING_SIZE] and then\n",
    "  # maps word indexes of the sequence into [batch_size, sequence_length,\n",
    "  # EMBEDDING_SIZE].\n",
    "  word_vectors = tf.contrib.layers.embed_sequence(\n",
    "      features, vocab_size=n_words, embed_dim=EMBEDDING_SIZE, scope='words')\n",
    "\n",
    "  # Split into list of embedding per word, while removing doc length dim.\n",
    "  # word_list results to be a list of tensors [batch_size, EMBEDDING_SIZE].\n",
    "  word_list = tf.unstack(word_vectors, axis=1)\n",
    "\n",
    "  # Create a Gated Recurrent Unit cell with hidden size of EMBEDDING_SIZE.\n",
    "  cell = tf.contrib.rnn.GRUCell(EMBEDDING_SIZE)\n",
    "  \n",
    "  if mode == tf.contrib.learn.ModeKeys.TRAIN:\n",
    "     seqlen = tf.constant(seq_len_train_trim)\n",
    "  else:\n",
    "     seqlen = tf.constant(seq_len_test_trim)\n",
    "  # Create an unrolled Recurrent Neural Networks to length of\n",
    "  # MAX_DOCUMENT_LENGTH and passes word_list as inputs for each unit.\n",
    "  #Use dynamic rnn by specifying sequence_length\n",
    "  encoding, _ = tf.contrib.rnn.static_rnn(cell, word_list, dtype=tf.float32,\n",
    "                                         sequence_length=seqlen)\n",
    "    \n",
    "  \n",
    "\n",
    "  # Given encoding of RNN, take encoding of last step (e.g hidden size of the\n",
    "  # neural network of last step) and pass it as features for logistic\n",
    "  # regression over output classes.\n",
    "  #print(encoding.shape)\n",
    "  target_1hot = tf.one_hot(target, 20, 1, 0)\n",
    "  logits = tf.contrib.layers.fully_connected(encoding[-1], 20, activation_fn=None)\n",
    "  loss = tf.contrib.losses.softmax_cross_entropy(logits, target_1hot)\n",
    "\n",
    "\n",
    "  #预测值\n",
    "  predictions = tf.argmax(logits, 1)\n",
    "  predictions_dict = {'class': predictions, 'prob': tf.nn.softmax(logits)}\n",
    "  #额外的指标\n",
    "  eval_metric_ops = {\n",
    "      'accuracy': tf.metrics.accuracy(\n",
    "          target, predictions)\n",
    "  }\n",
    "\n",
    "  # 训练参数设置\n",
    "  train_op = tf.contrib.layers.optimize_loss(\n",
    "      loss,\n",
    "      tf.contrib.framework.get_global_step(),\n",
    "      optimizer='Adam',\n",
    "      learning_rate=0.01)\n",
    "  #输出结果设置\n",
    "  result = model_fn_lib.ModelFnOps(\n",
    "      mode=mode,\n",
    "      predictions=predictions_dict,\n",
    "      loss=loss,\n",
    "      train_op=train_op,\n",
    "      eval_metric_ops=eval_metric_ops)\n",
    "\n",
    "  return result\n"
   ]
  },
  {
   "cell_type": "code",
   "execution_count": 55,
   "metadata": {
    "collapsed": false
   },
   "outputs": [
    {
     "name": "stdout",
     "output_type": "stream",
     "text": [
      "INFO:tensorflow:Using default config.\n",
      "INFO:tensorflow:Using config: {'_task_type': None, '_task_id': 0, '_cluster_spec': <tensorflow.python.training.server_lib.ClusterSpec object at 0x13572d400>, '_master': '', '_num_ps_replicas': 0, '_num_worker_replicas': 0, '_environment': 'local', '_is_chief': True, '_evaluation_master': '', '_tf_config': gpu_options {\n",
      "  per_process_gpu_memory_fraction: 1\n",
      "}\n",
      ", '_tf_random_seed': None, '_save_summary_steps': 100, '_save_checkpoints_secs': 600, '_session_config': None, '_save_checkpoints_steps': None, '_keep_checkpoint_max': 5, '_keep_checkpoint_every_n_hours': 10000, '_model_dir': 'rnn/'}\n"
     ]
    }
   ],
   "source": [
    "model_fn = rnn_model\n",
    "classifier = learn.Estimator(model_fn=model_fn, model_dir='rnn/')"
   ]
  },
  {
   "cell_type": "code",
   "execution_count": 56,
   "metadata": {
    "collapsed": true
   },
   "outputs": [],
   "source": [
    "# Instantiate Estimator\n",
    "def get_train_inputs():\n",
    "    x = tf.constant(x_train)\n",
    "    y = tf.constant(y_train)\n",
    "    return x, y"
   ]
  },
  {
   "cell_type": "code",
   "execution_count": null,
   "metadata": {
    "collapsed": false
   },
   "outputs": [
    {
     "name": "stdout",
     "output_type": "stream",
     "text": [
      "WARNING:tensorflow:From <ipython-input-54-cdfac81e6161>:36: softmax_cross_entropy (from tensorflow.contrib.losses.python.losses.loss_ops) is deprecated and will be removed after 2016-12-30.\n",
      "Instructions for updating:\n",
      "Use tf.losses.softmax_cross_entropy instead. Note that the order of the logits and labels arguments has been changed.\n",
      "WARNING:tensorflow:From /Users/richardsun/anaconda3/lib/python3.6/site-packages/tensorflow/contrib/losses/python/losses/loss_ops.py:398: compute_weighted_loss (from tensorflow.contrib.losses.python.losses.loss_ops) is deprecated and will be removed after 2016-12-30.\n",
      "Instructions for updating:\n",
      "Use tf.losses.compute_weighted_loss instead.\n",
      "WARNING:tensorflow:From /Users/richardsun/anaconda3/lib/python3.6/site-packages/tensorflow/contrib/losses/python/losses/loss_ops.py:151: add_arg_scope.<locals>.func_with_args (from tensorflow.contrib.framework.python.ops.arg_scope) is deprecated and will be removed after 2016-12-30.\n",
      "Instructions for updating:\n",
      "Use tf.losses.add_loss instead.\n",
      "INFO:tensorflow:Create CheckpointSaverHook.\n",
      "WARNING:tensorflow:Error encountered when serializing LAYER_NAME_UIDS.\n",
      "Type is unsupported, or the types of the items don't match field type in CollectionDef.\n",
      "'dict' object has no attribute 'name'\n"
     ]
    }
   ],
   "source": [
    "#classifier.fit(x_train, y_train, steps=6)\n",
    " # Fit\n",
    "classifier.fit(input_fn=get_train_inputs, steps=3)"
   ]
  },
  {
   "cell_type": "code",
   "execution_count": null,
   "metadata": {
    "collapsed": false
   },
   "outputs": [],
   "source": [
    "ev = classifier.evaluate(input_fn=get_test_inputs, steps=1)"
   ]
  },
  {
   "cell_type": "code",
   "execution_count": 38,
   "metadata": {
    "collapsed": false
   },
   "outputs": [
    {
     "name": "stdout",
     "output_type": "stream",
     "text": [
      "Accuracy: 0.062268\n"
     ]
    }
   ],
   "source": [
    "print('Accuracy: {0:f}'.format(ev['accuracy']))"
   ]
  },
  {
   "cell_type": "code",
   "execution_count": 61,
   "metadata": {
    "collapsed": false
   },
   "outputs": [],
   "source": [
    "#y_predicted = [\n",
    "    #p['class'] for p in classifier.predict(\n",
    "        #x_test, as_iterable=True)]\n",
    "#score = metrics.accuracy_score(newsgroups_test.target, y_predicted)\n",
    "#print('Accuracy: {0:f}'.format(score))"
   ]
  },
  {
   "cell_type": "markdown",
   "metadata": {
    "collapsed": true
   },
   "source": [
    "It seems that the recurrent neural network does not perform as well as bag-of-word model."
   ]
  },
  {
   "cell_type": "code",
   "execution_count": 30,
   "metadata": {
    "collapsed": false
   },
   "outputs": [],
   "source": [
    "#from tensorflow.contrib import rnn\n",
    "def birnn_model(features, target, mode):\n",
    "  \"\"\"RNN model to predict from sequence of words to a class.\"\"\"\n",
    "  # Convert indexes of words into embeddings.\n",
    "  # This creates embeddings matrix of [n_words, EMBEDDING_SIZE] and then\n",
    "  # maps word indexes of the sequence into [batch_size, sequence_length,\n",
    "  # EMBEDDING_SIZE].\n",
    "  word_vectors = tf.contrib.layers.embed_sequence(\n",
    "      features, vocab_size=n_words, embed_dim=EMBEDDING_SIZE, scope='words')\n",
    "\n",
    "  # Split into list of embedding per word, while removing doc length dim.\n",
    "  # word_list results to be a list of tensors [batch_size, EMBEDDING_SIZE].\n",
    "  word_list = tf.unstack(word_vectors, axis=1)\n",
    "\n",
    "  #Forward direction cell\n",
    "  lstm_fw_cell = tf.contrib.rnn.BasicLSTMCell(EMBEDDING_SIZE, forget_bias=1.0)\n",
    "  # Backward direction cell\n",
    "  lstm_bw_cell = tf.contrib.rnn.BasicLSTMCell(EMBEDDING_SIZE, forget_bias=1.0)\n",
    "  \n",
    "  if mode == tf.contrib.learn.ModeKeys.TRAIN:\n",
    "     seqlen = tf.constant(seq_len_train_trim)\n",
    "  else:\n",
    "     seqlen = tf.constant(seq_len_test_trim)\n",
    "  # Create an unrolled Recurrent Neural Networks to length of\n",
    "  # MAX_DOCUMENT_LENGTH and passes word_list as inputs for each unit.\n",
    "  #Use dynamic rnn by specifying sequence_length\n",
    "  #_, encoding = tf.contrib.rnn.static_rnn(cell, word_list, dtype=tf.float32,\n",
    "                                         #sequence_length=seqlen)\n",
    "  encoding, _, _ = tf.contrib.rnn.static_bidirectional_rnn(lstm_fw_cell, \n",
    "                                               lstm_bw_cell, word_list, sequence_length=seqlen,\n",
    "                                               dtype=tf.float32)\n",
    "  #encoding = encoding[-1]\n",
    "\n",
    "  # Given encoding of RNN, take encoding of last step (e.g hidden size of the\n",
    "  # neural network of last step) and pass it as features for logistic\n",
    "  # regression over output classes.\n",
    "  target_1hot = tf.one_hot(target, 20, 1, 0)\n",
    "  logits = tf.contrib.layers.fully_connected(encoding, 20, activation_fn=None)\n",
    "  loss = tf.contrib.losses.softmax_cross_entropy(logits, target_1hot)\n",
    "\n",
    "\n",
    "  #预测值\n",
    "  predictions = tf.argmax(logits, 1)\n",
    "  predictions_dict = {'class': predictions, 'prob': tf.nn.softmax(logits)}\n",
    "  #额外的指标\n",
    "  eval_metric_ops = {\n",
    "      'accuracy': tf.metrics.accuracy(\n",
    "          target, predictions)\n",
    "  }\n",
    "\n",
    "  # 训练参数设置\n",
    "  train_op = tf.contrib.layers.optimize_loss(\n",
    "      loss,\n",
    "      tf.contrib.framework.get_global_step(),\n",
    "      optimizer='Adam',\n",
    "      learning_rate=0.01)\n",
    "  #输出结果设置\n",
    "  result = model_fn_lib.ModelFnOps(\n",
    "      mode=mode,\n",
    "      predictions=predictions_dict,\n",
    "      loss=loss,\n",
    "      train_op=train_op,\n",
    "      eval_metric_ops=eval_metric_ops)\n",
    "\n",
    "  return result\n",
    "\n"
   ]
  },
  {
   "cell_type": "markdown",
   "metadata": {},
   "source": [
    "### CNN Model"
   ]
  },
  {
   "cell_type": "code",
   "execution_count": 28,
   "metadata": {
    "collapsed": true
   },
   "outputs": [],
   "source": [
    "N_FILTERS = 10\n",
    "WINDOW_SIZE = 20\n",
    "FILTER_SHAPE1 = [WINDOW_SIZE, EMBEDDING_SIZE]\n",
    "FILTER_SHAPE2 = [WINDOW_SIZE, N_FILTERS]\n",
    "POOLING_WINDOW = 4\n",
    "POOLING_STRIDE = 2\n",
    "def cnn_model(features, target, mode):\n",
    "  \"\"\"2 layer ConvNet to predict from sequence of words to a class.\"\"\"\n",
    "  # Convert indexes of words into embeddings.\n",
    "  # This creates embeddings matrix of [n_words, EMBEDDING_SIZE] and then\n",
    "  # maps word indexes of the sequence into [batch_size, sequence_length,\n",
    "  # EMBEDDING_SIZE].\n",
    "  target_1hot = tf.one_hot(target, 20, 1, 0)\n",
    "  word_vectors = tf.contrib.layers.embed_sequence(\n",
    "      features, vocab_size=n_words, embed_dim=EMBEDDING_SIZE, scope='words')\n",
    "  word_vectors = tf.expand_dims(word_vectors, 3)\n",
    "  with tf.variable_scope('CNN_Layer1'):\n",
    "    # Apply Convolution filtering on input sequence.\n",
    "    conv1 = tf.contrib.layers.convolution2d(\n",
    "        word_vectors, N_FILTERS, FILTER_SHAPE1, padding='VALID')\n",
    "    # Add a RELU for non linearity.\n",
    "    conv1 = tf.nn.relu(conv1)\n",
    "    # Max pooling across output of Convolution+Relu.\n",
    "    pool1 = tf.nn.max_pool(\n",
    "        conv1,\n",
    "        ksize=[1, POOLING_WINDOW, 1, 1],\n",
    "        strides=[1, POOLING_STRIDE, 1, 1],\n",
    "        padding='SAME')\n",
    "    # Transpose matrix so that n_filters from convolution becomes width.\n",
    "    pool1 = tf.transpose(pool1, [0, 1, 3, 2])\n",
    "  with tf.variable_scope('CNN_Layer2'):\n",
    "    # Second level of convolution filtering.\n",
    "    conv2 = tf.contrib.layers.convolution2d(\n",
    "        pool1, N_FILTERS, FILTER_SHAPE2, padding='VALID')\n",
    "    # Max across each filter to get useful features for classification.\n",
    "    pool2 = tf.squeeze(tf.reduce_max(conv2, 1), squeeze_dims=[1])\n",
    "\n",
    "  # Apply regular WX + B and classification.\n",
    "  logits = tf.contrib.layers.fully_connected(pool2, 20, activation_fn=None)\n",
    "  loss = tf.contrib.losses.softmax_cross_entropy(logits, target_1hot)\n",
    "\n",
    "  #预测值\n",
    "  predictions = tf.argmax(logits, 1)\n",
    "  predictions_dict = {'class': predictions, 'prob': tf.nn.softmax(logits)}\n",
    "  #额外的指标\n",
    "  eval_metric_ops = {\n",
    "      'accuracy': tf.metrics.accuracy(\n",
    "          target, predictions)\n",
    "  }\n",
    "\n",
    "  # 训练参数设置\n",
    "  train_op = tf.contrib.layers.optimize_loss(\n",
    "      loss,\n",
    "      tf.contrib.framework.get_global_step(),\n",
    "      optimizer='Adam',\n",
    "      learning_rate=0.01)\n",
    "  #输出结果设置\n",
    "  result = model_fn_lib.ModelFnOps(\n",
    "      mode=mode,\n",
    "      predictions=predictions_dict,\n",
    "      loss=loss,\n",
    "      train_op=train_op,\n",
    "      eval_metric_ops=eval_metric_ops)\n",
    "\n",
    "  return result\n"
   ]
  },
  {
   "cell_type": "code",
   "execution_count": 31,
   "metadata": {
    "collapsed": false
   },
   "outputs": [
    {
     "name": "stdout",
     "output_type": "stream",
     "text": [
      "INFO:tensorflow:Using default config.\n",
      "INFO:tensorflow:Using config: {'_task_type': None, '_master': '', '_save_checkpoints_secs': 600, '_is_chief': True, '_keep_checkpoint_every_n_hours': 10000, '_tf_config': gpu_options {\n",
      "  per_process_gpu_memory_fraction: 1\n",
      "}\n",
      ", '_evaluation_master': '', '_environment': 'local', '_num_ps_replicas': 0, '_save_checkpoints_steps': None, '_task_id': 0, '_cluster_spec': <tensorflow.python.training.server_lib.ClusterSpec object at 0x0000000057DE8588>, '_tf_random_seed': None, '_save_summary_steps': 100, '_keep_checkpoint_max': 5, '_model_dir': None, '_num_worker_replicas': 0}\n"
     ]
    }
   ],
   "source": [
    "model_fn = cnn_model\n",
    "classifier = learn.Estimator(model_fn=model_fn, model_dir='cnn/')"
   ]
  },
  {
   "cell_type": "code",
   "execution_count": 32,
   "metadata": {
    "collapsed": false
   },
   "outputs": [
    {
     "name": "stdout",
     "output_type": "stream",
     "text": [
      "WARNING:tensorflow:From <ipython-input-28-aabbafa49455>:40: softmax_cross_entropy (from tensorflow.contrib.losses.python.losses.loss_ops) is deprecated and will be removed after 2016-12-30.\n",
      "Instructions for updating:\n",
      "Use tf.losses.softmax_cross_entropy instead. Note that the order of the logits and labels arguments has been changed.\n",
      "WARNING:tensorflow:From C:\\Program Files\\Anaconda3\\lib\\site-packages\\tensorflow\\contrib\\losses\\python\\losses\\loss_ops.py:398: compute_weighted_loss (from tensorflow.contrib.losses.python.losses.loss_ops) is deprecated and will be removed after 2016-12-30.\n",
      "Instructions for updating:\n",
      "Use tf.losses.compute_weighted_loss instead.\n",
      "WARNING:tensorflow:From C:\\Program Files\\Anaconda3\\lib\\site-packages\\tensorflow\\contrib\\losses\\python\\losses\\loss_ops.py:151: add_loss (from tensorflow.contrib.losses.python.losses.loss_ops) is deprecated and will be removed after 2016-12-30.\n",
      "Instructions for updating:\n",
      "Use tf.losses.add_loss instead.\n",
      "INFO:tensorflow:Create CheckpointSaverHook.\n",
      "INFO:tensorflow:Saving checkpoints for 1 into cnn/model.ckpt.\n",
      "INFO:tensorflow:loss = 2.99572, step = 1\n",
      "INFO:tensorflow:Saving checkpoints for 3 into cnn/model.ckpt.\n",
      "INFO:tensorflow:Loss for final step: 2.98689.\n"
     ]
    },
    {
     "data": {
      "text/plain": [
       "Estimator(params=None)"
      ]
     },
     "execution_count": 32,
     "metadata": {},
     "output_type": "execute_result"
    }
   ],
   "source": [
    " # Fit\n",
    "classifier.fit(input_fn=get_train_inputs, steps=3)"
   ]
  },
  {
   "cell_type": "code",
   "execution_count": 33,
   "metadata": {
    "collapsed": false
   },
   "outputs": [
    {
     "name": "stdout",
     "output_type": "stream",
     "text": [
      "WARNING:tensorflow:From <ipython-input-28-aabbafa49455>:40: softmax_cross_entropy (from tensorflow.contrib.losses.python.losses.loss_ops) is deprecated and will be removed after 2016-12-30.\n",
      "Instructions for updating:\n",
      "Use tf.losses.softmax_cross_entropy instead. Note that the order of the logits and labels arguments has been changed.\n",
      "WARNING:tensorflow:From C:\\Program Files\\Anaconda3\\lib\\site-packages\\tensorflow\\contrib\\losses\\python\\losses\\loss_ops.py:398: compute_weighted_loss (from tensorflow.contrib.losses.python.losses.loss_ops) is deprecated and will be removed after 2016-12-30.\n",
      "Instructions for updating:\n",
      "Use tf.losses.compute_weighted_loss instead.\n",
      "WARNING:tensorflow:From C:\\Program Files\\Anaconda3\\lib\\site-packages\\tensorflow\\contrib\\losses\\python\\losses\\loss_ops.py:151: add_loss (from tensorflow.contrib.losses.python.losses.loss_ops) is deprecated and will be removed after 2016-12-30.\n",
      "Instructions for updating:\n",
      "Use tf.losses.add_loss instead.\n",
      "INFO:tensorflow:Starting evaluation at 2017-05-08-13:50:50\n",
      "INFO:tensorflow:Restoring parameters from cnn/model.ckpt-3\n",
      "INFO:tensorflow:Evaluation [1/1]\n",
      "INFO:tensorflow:Finished evaluation at 2017-05-08-13:51:02\n",
      "INFO:tensorflow:Saving dict for global step 3: accuracy = 0.0543016, global_step = 3, loss = 2.97413\n",
      "WARNING:tensorflow:Skipping summary for global_step, must be a float or np.float32.\n"
     ]
    }
   ],
   "source": [
    "ev = classifier.evaluate(input_fn=get_test_inputs, steps=1)"
   ]
  },
  {
   "cell_type": "code",
   "execution_count": null,
   "metadata": {
    "collapsed": true
   },
   "outputs": [],
   "source": []
  }
 ],
 "metadata": {
  "anaconda-cloud": {},
  "kernelspec": {
   "display_name": "Python 3",
   "language": "python",
   "name": "python3"
  },
  "language_info": {
   "codemirror_mode": {
    "name": "ipython",
    "version": 3
   },
   "file_extension": ".py",
   "mimetype": "text/x-python",
   "name": "python",
   "nbconvert_exporter": "python",
   "pygments_lexer": "ipython3",
   "version": "3.6.0"
  }
 },
 "nbformat": 4,
 "nbformat_minor": 0
}
