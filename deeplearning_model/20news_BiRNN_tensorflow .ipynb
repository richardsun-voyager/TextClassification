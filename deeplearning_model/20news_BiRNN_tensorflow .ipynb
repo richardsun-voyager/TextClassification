{
 "cells": [
  {
   "cell_type": "code",
   "execution_count": 1,
   "metadata": {
    "collapsed": true
   },
   "outputs": [],
   "source": [
    "import numpy as np\n",
    "import matplotlib.pyplot as plt\n",
    "import re\n",
    "import string\n",
    "import tensorflow as tf\n",
    "from collections import Counter\n",
    "%matplotlib inline"
   ]
  },
  {
   "cell_type": "markdown",
   "metadata": {},
   "source": [
    "## Data Preprocessing"
   ]
  },
  {
   "cell_type": "code",
   "execution_count": 2,
   "metadata": {
    "collapsed": false
   },
   "outputs": [],
   "source": [
    "from sklearn.datasets import fetch_20newsgroups\n",
    "newsgroups_train = fetch_20newsgroups(subset='train',\n",
    "                                  shuffle=True, random_state=11)\n",
    "newsgroups_test = fetch_20newsgroups(subset='test', \n",
    "                                  shuffle=True, random_state=11)"
   ]
  },
  {
   "cell_type": "code",
   "execution_count": 3,
   "metadata": {
    "collapsed": false
   },
   "outputs": [
    {
     "name": "stdout",
     "output_type": "stream",
     "text": [
      "Training text number: 11314\n",
      "Testing text number: 7532\n"
     ]
    }
   ],
   "source": [
    "print('Training text number:', len(newsgroups_train.data))\n",
    "print('Testing text number:', len(newsgroups_test.data))"
   ]
  },
  {
   "cell_type": "markdown",
   "metadata": {},
   "source": [
    "## News to IDs"
   ]
  },
  {
   "cell_type": "code",
   "execution_count": 4,
   "metadata": {
    "collapsed": true
   },
   "outputs": [],
   "source": [
    "from sklearn.feature_extraction.text import TfidfVectorizer\n",
    "class readNews:\n",
    "    '''\n",
    "    Read 20news and transform them into vectors for training\n",
    "    Args:\n",
    "    train_data\n",
    "    test_data\n",
    "    '''\n",
    "    def __init__(self, train_data, test_data):\n",
    "        self._train_data = train_data\n",
    "        self._test_data = test_data\n",
    "        self._preprocess()\n",
    "    \n",
    "    \n",
    "    def _preProcessor(self, s):\n",
    "        #remove punctuation\n",
    "        s = re.sub('['+string.punctuation+']', ' ', s)\n",
    "        #remove digits\n",
    "        s = re.sub('['+string.digits+']', ' ', s)\n",
    "        #remove foreign characters\n",
    "        s = re.sub('[^a-zA-Z]', ' ', s)\n",
    "        #remove line ends\n",
    "        s = re.sub('\\n', ' ', s)\n",
    "        #turn to lower case\n",
    "        s = s.lower()\n",
    "        s = re.sub('[ ]+',' ', s)\n",
    "        s = s.rstrip()\n",
    "        return s\n",
    "    \n",
    "    def _preprocess(self):\n",
    "        '''Remove punctuations'''\n",
    "        train_news = self._train_data.data\n",
    "        test_news = self._test_data.data\n",
    "        self._train_data.data = [self._preProcessor(item) for item in train_news]\n",
    "        self._test_data.data = [self._preProcessor(item) for item in test_news]\n",
    "        \n",
    "    def _tfidf_vectorizer(self):\n",
    "        ''''Vectorize news'''\n",
    "        tfidfVectorizer = TfidfVectorizer(stop_words='english', ngram_range=(1, 1), max_features=5000)\n",
    "        X_train_tfidf = tfidfVectorizer.fit_transform(self._train_data.data)\n",
    "        X_test_tfidf = tfidfVectorizer.transform(self._test_data.data)\n",
    "        vocab_index_dict = tfidfVectorizer.vocabulary_\n",
    "        return X_train_tfidf, X_test_tfidf, vocab_index_dict\n",
    "    \n",
    "    def tfidf_weight(self):\n",
    "        '''Calculate TfIdf weights for each word within each news'''\n",
    "        train_news_words, test_news_words = self._news2words()\n",
    "        X_train_tfidf, X_test_tfidf, vocab_index_dict = self._tfidf_vectorizer()\n",
    "        train_weights = []\n",
    "        test_weights = []\n",
    "        #Generate dicts for words and corresponding tfidf weights\n",
    "        for i, news in enumerate(train_news_words):\n",
    "            word_weight = []\n",
    "            for word in news:\n",
    "                try:\n",
    "                    word_index = vocab_index_dict.get(word)\n",
    "                    w = X_train_tfidf[i, word_index]\n",
    "                    word_weight.append(w)\n",
    "                except:\n",
    "                    word_weight.append(0)\n",
    "            train_weights.append(word_weight)\n",
    "        for i, news in enumerate(test_news_words):\n",
    "            word_weight = []\n",
    "            for word in news:\n",
    "                try:\n",
    "                    word_index = vocab_index_dict.get(word)\n",
    "                    w = X_test_tfidf[i, word_index]\n",
    "                    word_weight.append(w)\n",
    "                except:\n",
    "                    word_weight.append(0)\n",
    "            test_weights.append(word_weight)      \n",
    "        return train_weights, test_weights\n",
    "    \n",
    "    def _news2words(self):\n",
    "        #Split each news into words\n",
    "        train_news_words = []\n",
    "        test_news_words = []\n",
    "        for news in self._train_data.data:\n",
    "           #Collect words for each news\n",
    "           train_news_words.append(news.split())\n",
    "        for news in self._test_data.data:\n",
    "            test_news_words.append(news.split())\n",
    "        return train_news_words, test_news_words\n",
    "    \n",
    "    def buildVocab(self):\n",
    "        words = []\n",
    "        for news in self._train_data.data:\n",
    "           #Collect all the chars\n",
    "           words.extend(news.split())\n",
    "        #Calculate frequencies of each character\n",
    "        word_freq = Counter(words)\n",
    "        #Filter out those low frequency characters\n",
    "        vocab = [u for u,v in word_freq.items() if v>3]\n",
    "        if 'UNK' not in vocab:\n",
    "            vocab.append('UNK')\n",
    "        #Map each char into an ID\n",
    "        word_id_map = dict(zip(vocab, range(len(vocab))))\n",
    "        #Map each ID into a word\n",
    "        id_word_map = dict(zip(word_id_map.values(), word_id_map.keys()))\n",
    "        return vocab, word_id_map, id_word_map\n",
    "    \n",
    "    def news2vecs(self):\n",
    "        #Map each word into an ID\n",
    "        train_news_words, test_news_words = self._news2words()\n",
    "        vocab, word_id_map, id_word_mapp = self.buildVocab()\n",
    "        def word2id(c):\n",
    "            try:\n",
    "               ID = word_id_map[c]\n",
    "            except:#Trun those less frequent words into UNK\n",
    "               ID = word_id_map['UNK']\n",
    "            return ID\n",
    "        #Turn each news into a list of word Ids\n",
    "        words_vecs = lambda words: [word2id(w) for w in words]\n",
    "        train_news_vecs = [words_vecs(words) for words in train_news_words]\n",
    "        train_news_labels = self._train_data.target\n",
    "        test_news_vecs = [words_vecs(words) for words in test_news_words]\n",
    "        test_news_labels = self._test_data.target\n",
    "        return train_news_vecs, train_news_labels, test_news_vecs, test_news_labels"
   ]
  },
  {
   "cell_type": "code",
   "execution_count": 5,
   "metadata": {
    "collapsed": false
   },
   "outputs": [],
   "source": [
    "#Create a readnews object\n",
    "rn = readNews(newsgroups_train, newsgroups_test)\n",
    "train_news_vecs, train_news_labels, test_news_vecs, test_news_labels = rn.news2vecs()"
   ]
  },
  {
   "cell_type": "code",
   "execution_count": 6,
   "metadata": {
    "collapsed": true
   },
   "outputs": [],
   "source": [
    "#Record tfidf weights for each word in each news\n",
    "#train_weights, test_weights = rn.tfidf_weight()"
   ]
  },
  {
   "cell_type": "code",
   "execution_count": 7,
   "metadata": {
    "collapsed": true
   },
   "outputs": [],
   "source": [
    "#Get the vocabulary and dictionary of words as well as corresponding ids\n",
    "vocab, word_id_map, id_word_map = rn.buildVocab()"
   ]
  },
  {
   "cell_type": "code",
   "execution_count": 8,
   "metadata": {
    "collapsed": true
   },
   "outputs": [],
   "source": [
    "def word2id(c):\n",
    "    try:\n",
    "        ID = word_id_map[c]\n",
    "    except:#Trun those less frequent words into UNK\n",
    "        ID = word_id_map['UNK']\n",
    "    return ID\n",
    "def id2word(c):\n",
    "    try:\n",
    "        word = id_word_map[c]\n",
    "    except:\n",
    "        word='UNK'\n",
    "    return word"
   ]
  },
  {
   "cell_type": "code",
   "execution_count": 9,
   "metadata": {
    "collapsed": false
   },
   "outputs": [
    {
     "name": "stdout",
     "output_type": "stream",
     "text": [
      "Min Length 17\n",
      "Max Length 15804\n",
      "Median Length 184.0\n"
     ]
    }
   ],
   "source": [
    "train_news_length = [len(news) for news in train_news_vecs]\n",
    "print('Min Length', np.amin(train_news_length))\n",
    "print('Max Length', np.max(train_news_length))\n",
    "print('Median Length', np.median(train_news_length))"
   ]
  },
  {
   "cell_type": "code",
   "execution_count": 10,
   "metadata": {
    "collapsed": false
   },
   "outputs": [
    {
     "data": {
      "text/plain": [
       "array([  17.,  116.,  184.,  301.,  509.,  769.])"
      ]
     },
     "execution_count": 10,
     "metadata": {},
     "output_type": "execute_result"
    }
   ],
   "source": [
    "np.percentile(train_news_length, [0, 25, 50, 75, 90, 95])"
   ]
  },
  {
   "cell_type": "markdown",
   "metadata": {},
   "source": [
    "It seems the length varies much, perhaps we need buckets to put news with similar lengths together."
   ]
  },
  {
   "cell_type": "markdown",
   "metadata": {},
   "source": [
    "## Create Batch Data Generator"
   ]
  },
  {
   "cell_type": "code",
   "execution_count": 27,
   "metadata": {
    "collapsed": false
   },
   "outputs": [],
   "source": [
    "import random\n",
    "class generateSamples:\n",
    "    '''Generate samples for training and testing'''\n",
    "    \n",
    "    def __init__(self, news_vecs, news_labels, max_len=800):\n",
    "        '''Pass batch size and poems vectors'''\n",
    "        self.index = 0\n",
    "        self.news_vecs = news_vecs\n",
    "        self.news_labels = news_labels\n",
    "        self.news_count = len(news_vecs)\n",
    "        self.max_news_len = max_len\n",
    "        \n",
    "    def generate_batch(self, batch_size=64, is_training=True):\n",
    "        '''Generate a training sample each time'''\n",
    "        \n",
    "        selected_samples = []\n",
    "        selected_labels = []\n",
    "        #For training, select random samples\n",
    "        if is_training:\n",
    "            selected_index = np.random.choice(len(self.news_vecs), batch_size, replace=True)\n",
    "            for index in selected_index:\n",
    "                selected_samples.append(self.news_vecs[index])\n",
    "                selected_labels.append(self.news_labels[index])\n",
    "        #For testing, select a few samples each time\n",
    "        else:#Testing model\n",
    "            start = self.index%self.news_count\n",
    "            end = (start + batch_size)%self.news_count\n",
    "            #In case end goes beyong the range of the samples\n",
    "            if end > start:\n",
    "                selected_samples = self.news_vecs[start: end]\n",
    "                selected_labels = self.news_labels[start: end]\n",
    "                self.index = end\n",
    "            else:\n",
    "                print('Test Samples come to an end!')\n",
    "                selected_samples = self.news_vecs[start: ]\n",
    "                selected_labels = self.news_labels[start: ]\n",
    "                self.index = 0\n",
    "            \n",
    "        #Set the max lengths as the size of the input\n",
    "        #max_len = max(map(len, data))\n",
    "        #Record lengths for each text\n",
    "        lengths = [len(item) for item in selected_samples]\n",
    "        lengths = np.array(lengths)\n",
    "        #Get the max length in current batch\n",
    "        max_len = max(lengths)\n",
    "        max_len = self.max_news_len if max_len > self.max_news_len else max_len\n",
    "\n",
    "        #Create input and label\n",
    "        x = np.full((batch_size, max_len), word2id('UNK'), np.int32)\n",
    "        y = np.zeros(batch_size)\n",
    "        for i in range(batch_size):\n",
    "            #the first n elements as input\n",
    "            if len(selected_samples[i]) < max_len:\n",
    "                x[i, :len(selected_samples[i])] = selected_samples[i]\n",
    "                y[i] = selected_labels[i]\n",
    "            #If the news is very long\n",
    "            #Cut it to the max_news_len\n",
    "            else:\n",
    "                x[i, :] = selected_samples[i][:max_len]\n",
    "                y[i] = selected_labels[i]\n",
    "        return x, y, lengths\n",
    "    "
   ]
  },
  {
   "cell_type": "markdown",
   "metadata": {},
   "source": [
    "From the data exploration, it is clear that the length of the news varies much, ranging from 10 to 10000. In order to deal with that case, we can take buckets into consideration, similar to seq2seq model."
   ]
  },
  {
   "cell_type": "code",
   "execution_count": 12,
   "metadata": {
    "collapsed": false
   },
   "outputs": [],
   "source": [
    "class trainConfig:\n",
    "    vocab_size = len(vocab)\n",
    "    max_doc_len = max(map(len, train_news_vecs))\n",
    "    label_size = 20\n",
    "    embed_size = 128\n",
    "    batch_size = 64\n",
    "    layer_size = 2"
   ]
  },
  {
   "cell_type": "code",
   "execution_count": 13,
   "metadata": {
    "collapsed": false
   },
   "outputs": [],
   "source": [
    "class testConfig:\n",
    "    vocab_size = len(vocab)\n",
    "    max_doc_len = max(map(len, train_news_vecs))\n",
    "    label_size = 20\n",
    "    embed_size = 128\n",
    "    batch_size = 64\n",
    "    layer_size = 2\n",
    "    \n",
    "class singleConfig:\n",
    "    vocab_size = len(vocab)\n",
    "    max_doc_len = max(map(len, train_news_vecs))\n",
    "    label_size = 20\n",
    "    embed_size = 128\n",
    "    batch_size = 1\n",
    "    layer_size = 2"
   ]
  },
  {
   "cell_type": "code",
   "execution_count": 14,
   "metadata": {
    "collapsed": false
   },
   "outputs": [
    {
     "data": {
      "text/plain": [
       "44"
      ]
     },
     "execution_count": 14,
     "metadata": {},
     "output_type": "execute_result"
    }
   ],
   "source": [
    "train_chunk_num = int(len(train_news_vecs)/trainConfig.batch_size)\n",
    "test_chunk_num = int(len(test_news_vecs)/trainConfig.batch_size)\n",
    "remain_num = len(test_news_labels) - trainConfig.batch_size*test_chunk_num\n",
    "remain_num"
   ]
  },
  {
   "cell_type": "code",
   "execution_count": 28,
   "metadata": {
    "collapsed": false
   },
   "outputs": [],
   "source": [
    "train_samples = generateSamples(train_news_vecs, train_news_labels)"
   ]
  },
  {
   "cell_type": "code",
   "execution_count": 29,
   "metadata": {
    "collapsed": false
   },
   "outputs": [],
   "source": [
    "test_samples = generateSamples(test_news_vecs, test_news_labels)"
   ]
  },
  {
   "cell_type": "code",
   "execution_count": 30,
   "metadata": {
    "collapsed": false
   },
   "outputs": [],
   "source": [
    "x, y, lengths = train_samples.generate_batch()"
   ]
  },
  {
   "cell_type": "code",
   "execution_count": 31,
   "metadata": {
    "collapsed": false
   },
   "outputs": [],
   "source": [
    "x, y, lengths = test_samples.generate_batch()"
   ]
  },
  {
   "cell_type": "markdown",
   "metadata": {},
   "source": [
    "## Dynamic RNN Model\n",
    "\n",
    "In this model, we first transform each news as a series of word vectors. Then we put the series of news into a RNN system to get the final state vectors. Next, we do classification based on the news vectors."
   ]
  },
  {
   "cell_type": "code",
   "execution_count": 19,
   "metadata": {
    "collapsed": true
   },
   "outputs": [],
   "source": [
    "import functools\n",
    "from tensorflow.contrib.layers.python.layers import encoders\n",
    "def lazy_property(function):\n",
    "    attribute = '_cache_' + function.__name__\n",
    "\n",
    "    @property\n",
    "    @functools.wraps(function)\n",
    "    def decorator(self):\n",
    "        if not hasattr(self, attribute):\n",
    "            setattr(self, attribute, function(self))\n",
    "        return getattr(self, attribute)\n",
    "\n",
    "    return decorator"
   ]
  },
  {
   "cell_type": "code",
   "execution_count": 20,
   "metadata": {
    "collapsed": false
   },
   "outputs": [],
   "source": [
    "#Reference:http://blog.csdn.net/u010223750/article/details/71079036\n",
    "from tensorflow.contrib import rnn\n",
    "class BiRNN_Model:\n",
    "    def __init__(self, config, x, y, lengths, is_training=True):\n",
    "        self.x = x\n",
    "        self.y = y\n",
    "        self.vocab_size = config.vocab_size\n",
    "        self.embed_size = config.embed_size\n",
    "        self.label_size = config.label_size\n",
    "        self.batch_size = config.batch_size\n",
    "        self.lengths = lengths\n",
    "        self.max_doc_len = config.max_doc_len\n",
    "        self.is_training = is_training\n",
    "        self.predict\n",
    "        if is_training:\n",
    "            self.optimize\n",
    "        print('Model Initialized!')\n",
    "    \n",
    "    @lazy_property\n",
    "    def cost(self):\n",
    "        logits = self.inference\n",
    "        targets = tf.one_hot(self.y, 20, 1, 0)\n",
    "        targets = tf.cast(targets, tf.float32)\n",
    "        #Note  tf.nn.softmax_cross_entropy_with_logits(labels=Y, logits=activation)\n",
    "        loss = tf.losses.softmax_cross_entropy(targets, logits)\n",
    "        return loss\n",
    "    \n",
    "    @lazy_property\n",
    "    def predict(self):\n",
    "        logits = self.inference\n",
    "        #probs = tf.nn.softmax(logits)\n",
    "        predictions = tf.argmax(logits, 1)\n",
    "        return predictions\n",
    "    \n",
    "    @lazy_property\n",
    "    def correct_num(self):\n",
    "        prediction = self.predict\n",
    "        targets = tf.reshape(self.y, [-1])\n",
    "        targets = tf.cast(targets, tf.int64)\n",
    "        correct_prediction = tf.equal(prediction, targets)\n",
    "        correct_num = tf.reduce_sum(tf.cast(correct_prediction, \"float\"))\n",
    "        return correct_num\n",
    "    \n",
    "    @lazy_property\n",
    "    def optimize(self):\n",
    "        with tf.variable_scope('optimizer'):\n",
    "            cost = self.cost\n",
    "        #with tf.name_scope('Optimizer'):\n",
    "            #self._learning_rate = tf.Variable(0.0, trainable=False)\n",
    "            train_op = tf.train.AdamOptimizer(0.0005).minimize(cost)\n",
    "            #train_op = tf.train.AdamOptimizer(self._learning_rate).minimize(cost)\n",
    "            #tvars = tf.trainable_variables()\n",
    "            #grads, _ = tf.clip_by_global_norm(tf.gradients(cost, tvars), 6)\n",
    "            #optimizer = tf.train.AdamOptimizer(self._learning_rate)\n",
    "            #train_op = optimizer.apply_gradients(zip(grads, tvars))\n",
    "        return train_op\n",
    "    \n",
    "    @lazy_property\n",
    "    def inference(self):\n",
    "        #Create embedding matrix\n",
    "        with tf.device(\"/cpu:0\"):\n",
    "            embeddings = tf.get_variable('embedding', [self.vocab_size,  self.embed_size])\n",
    "            inputs = tf.nn.embedding_lookup(embeddings, self.x)\n",
    "        if self.is_training:\n",
    "            inputs = tf.nn.dropout(inputs, 0.5)\n",
    "\n",
    "        #slice inputs into a series of vectors\n",
    "        #batch_doc_vectors = tf.unstack(inputs, axis=0)\n",
    "        def lstm():\n",
    "            return rnn.BasicLSTMCell(self.embed_size, forget_bias=0.0, \n",
    "                                      state_is_tuple=True) \n",
    "        #lstm_cell = lstm\n",
    "        #cell = rnn.MultiRNNCell([lstm_cell() for _ in range(2)], \n",
    "                                #state_is_tuple=True)\n",
    "        lstm_fw_cell = lstm()\n",
    "        lstm_bw_cell = lstm()\n",
    "        initial_fw_state = lstm_fw_cell.zero_state(self.batch_size, tf.float32)\n",
    "        initial_bw_state = lstm_bw_cell.zero_state(self.batch_size, tf.float32)\n",
    "        #Bidirectional dynamic RNN with given lengths for each text\n",
    "        outputs, status = tf.nn.bidirectional_dynamic_rnn(lstm_fw_cell, lstm_bw_cell, inputs,\n",
    "                                                          initial_state_fw=initial_fw_state,\n",
    "                                                          initial_state_bw=initial_bw_state,\n",
    "                                                          sequence_length=self.lengths, dtype=tf.float32)\n",
    "        #output = outputs[:,-1,:]\n",
    "        #If we use padding, the last output will be based on the padding input values\n",
    "        #Note here we use the hidden state instead of the last output\n",
    "        #In dynamic rnn, the last state will remain the same after specified time steps\n",
    "        #For example, if the length is 10 and the padding sequence has 20 words, the \n",
    "        #final state will be the one of 10th time step\n",
    "        #COncatenate the two hidden states\n",
    "        #print(status[1].h)\n",
    "        output = tf.concat([status[0].h, status[1].h], axis=1)\n",
    "        \n",
    "        \n",
    "        weights = tf.get_variable('weights', [2*self.embed_size, self.label_size], dtype=tf.float32)\n",
    "        biases = tf.get_variable('biases', [self.label_size], dtype=tf.float32)\n",
    "        logits = tf.matmul(output, weights) + biases\n",
    "        #预测值\n",
    "        return logits\n",
    "    \n",
    "    @property\n",
    "    def learningRate(self):\n",
    "        return self._learning_rate\n",
    "        "
   ]
  },
  {
   "cell_type": "code",
   "execution_count": 34,
   "metadata": {
    "collapsed": false
   },
   "outputs": [
    {
     "name": "stdout",
     "output_type": "stream",
     "text": [
      "Model Initialized!\n",
      "Model Initialized!\n",
      "Model Initialized!\n"
     ]
    }
   ],
   "source": [
    "graph_birnn = tf.Graph()\n",
    "#Create models for training and testing data\n",
    "with graph_birnn.as_default():\n",
    "    initializer = tf.random_uniform_initializer(-0.02, 0.02)\n",
    "    with tf.name_scope('train'):\n",
    "        train_data = tf.placeholder(tf.int32, [trainConfig.batch_size, None])\n",
    "        train_label = tf.placeholder(tf.int32, [trainConfig.batch_size])\n",
    "        train_lengths = tf.placeholder(tf.int32, [trainConfig.batch_size])\n",
    "        #Set different models for different buckets\n",
    "        with tf.variable_scope(\"Model\", reuse=None, initializer=initializer):\n",
    "            train_model = BiRNN_Model(trainConfig, train_data, train_label, train_lengths)\n",
    "            saver=tf.train.Saver()\n",
    "    with tf.name_scope('test'):\n",
    "        test_data = tf.placeholder(tf.int32, [testConfig.batch_size, None])\n",
    "        test_label = tf.placeholder(tf.int32, [testConfig.batch_size])\n",
    "        test_lengths = tf.placeholder(tf.int32, [testConfig.batch_size])\n",
    "        single_data = tf.placeholder(tf.int32, [singleConfig.batch_size, None])\n",
    "        single_label = tf.placeholder(tf.int32, [singleConfig.batch_size])\n",
    "        single_lengths = tf.placeholder(tf.int32, [singleConfig.batch_size])\n",
    "        #Set different models for different buckets\n",
    "        with tf.variable_scope(\"Model\", reuse=True, initializer=initializer):\n",
    "            test_model = BiRNN_Model(testConfig, test_data, test_label, test_lengths, False)\n",
    "            single_model = BiRNN_Model(singleConfig, single_data, single_label, single_lengths, False)"
   ]
  },
  {
   "cell_type": "code",
   "execution_count": 22,
   "metadata": {
    "collapsed": false
   },
   "outputs": [
    {
     "data": {
      "text/plain": [
       "117.6875"
      ]
     },
     "execution_count": 22,
     "metadata": {},
     "output_type": "execute_result"
    }
   ],
   "source": [
    "len(test_news_vecs)/64"
   ]
  },
  {
   "cell_type": "code",
   "execution_count": 24,
   "metadata": {
    "collapsed": false
   },
   "outputs": [
    {
     "data": {
      "text/plain": [
       "44"
      ]
     },
     "execution_count": 24,
     "metadata": {},
     "output_type": "execute_result"
    }
   ],
   "source": [
    "len(test_news_vecs) - 64*117"
   ]
  },
  {
   "cell_type": "code",
   "execution_count": 38,
   "metadata": {
    "collapsed": false
   },
   "outputs": [
    {
     "name": "stdout",
     "output_type": "stream",
     "text": [
      "Loss: 2.9953\n",
      "Loss: 2.9535\n",
      "Epoch 0 time:177.38\n",
      "Loss: 2.6163\n",
      "Loss: 2.2926\n",
      "Epoch 1 time:178.86\n",
      "Loss: 2.3551\n",
      "Loss: 2.0608\n",
      "Epoch 2 time:176.66\n",
      "Loss: 2.1508\n",
      "Loss: 2.0114\n",
      "Epoch 3 time:176.43\n",
      "Loss: 1.8988\n",
      "Loss: 1.6184\n",
      "Epoch 4 time:175.21\n",
      "Loss: 1.6275\n",
      "Loss: 1.6975\n",
      "Epoch 5 time:176.34\n",
      "Loss: 1.6059\n",
      "Loss: 1.6025\n",
      "Epoch 6 time:174.52\n",
      "Loss: 1.856\n",
      "Loss: 1.2174\n",
      "Epoch 7 time:174.66\n",
      "Loss: 1.2118\n",
      "Loss: 1.2077\n",
      "Epoch 8 time:178.17\n",
      "Loss: 0.9844\n",
      "Loss: 0.9243\n",
      "Epoch 9 time:177.97\n",
      "Loss: 0.9879\n",
      "Loss: 1.0377\n",
      "Epoch 10 time:175.62\n",
      "Loss: 0.9928\n",
      "Loss: 0.9117\n",
      "Epoch 11 time:177.39\n",
      "Loss: 0.8433\n",
      "Loss: 0.8356\n",
      "Epoch 12 time:175.73\n",
      "Loss: 0.7319\n",
      "Loss: 0.5219\n",
      "Epoch 13 time:175.41\n",
      "Loss: 0.5453\n",
      "Loss: 0.4171\n",
      "Epoch 14 time:175.53\n",
      "Loss: 0.5575\n",
      "Loss: 0.6013\n",
      "Epoch 15 time:177.54\n",
      "Loss: 0.3783\n",
      "Loss: 0.3181\n",
      "Epoch 16 time:176.67\n",
      "Loss: 0.5721\n",
      "Loss: 0.4585\n",
      "Epoch 17 time:178.16\n",
      "Loss: 0.1966\n",
      "Loss: 0.3279\n",
      "Epoch 18 time:174.24\n",
      "Loss: 0.2298\n",
      "Loss: 0.2012\n",
      "Epoch 19 time:180.07\n",
      "Loss: 0.2853\n",
      "Loss: 0.1609\n",
      "Epoch 20 time:176.17\n",
      "Loss: 0.1145\n",
      "Loss: 0.2141\n",
      "Epoch 21 time:173.77\n",
      "Loss: 0.2863\n",
      "Loss: 0.1829\n",
      "Epoch 22 time:176.65\n",
      "Loss: 0.1171\n",
      "Loss: 0.1786\n",
      "Epoch 23 time:176.85\n",
      "Loss: 0.1857\n",
      "Loss: 0.1445\n",
      "Epoch 24 time:178.17\n",
      "Loss: 0.114\n",
      "Loss: 0.0792\n",
      "Epoch 25 time:176.10\n",
      "Loss: 0.2059\n",
      "Loss: 0.2616\n",
      "Epoch 26 time:174.84\n",
      "Loss: 0.1086\n",
      "Loss: 0.22\n",
      "Epoch 27 time:173.67\n",
      "Loss: 0.1929\n",
      "Loss: 0.2554\n",
      "Epoch 28 time:177.91\n",
      "Loss: 0.1745\n",
      "Loss: 0.1182\n",
      "Epoch 29 time:174.57\n",
      "Loss: 0.0919\n",
      "Loss: 0.1187\n",
      "Epoch 30 time:176.15\n",
      "Loss: 0.0611\n",
      "Loss: 0.0475\n",
      "Epoch 31 time:175.77\n",
      "Loss: 0.0435\n",
      "Loss: 0.0469\n",
      "Epoch 32 time:173.03\n",
      "Loss: 0.0949\n",
      "Loss: 0.211\n",
      "Epoch 33 time:172.15\n",
      "Loss: 0.0785\n",
      "Loss: 0.0183\n",
      "Epoch 34 time:178.15\n",
      "Loss: 0.1205\n",
      "Loss: 0.2095\n",
      "Epoch 35 time:175.28\n",
      "Loss: 0.5356\n",
      "Loss: 0.1141\n",
      "Epoch 36 time:177.20\n",
      "Loss: 0.1383\n",
      "Loss: 0.1041\n",
      "Epoch 37 time:174.57\n",
      "Loss: 0.1373\n",
      "Loss: 0.0418\n",
      "Epoch 38 time:172.50\n",
      "Loss: 0.015\n",
      "Loss: 0.0612\n",
      "Epoch 39 time:176.19\n",
      "Loss: 0.0801\n",
      "Loss: 0.064\n",
      "Epoch 40 time:175.05\n",
      "Loss: 0.1275\n",
      "Loss: 0.1298\n",
      "Epoch 41 time:176.62\n",
      "Loss: 0.0711\n",
      "Loss: 0.0741\n",
      "Epoch 42 time:176.65\n",
      "Loss: 0.0723\n",
      "Loss: 0.0639\n",
      "Epoch 43 time:172.56\n",
      "Loss: 0.0066\n",
      "Loss: 0.0802\n",
      "Epoch 44 time:173.88\n",
      "Loss: 0.0599\n",
      "Loss: 0.0056\n",
      "Epoch 45 time:173.17\n",
      "Loss: 0.0398\n",
      "Loss: 0.0678\n",
      "Epoch 46 time:175.88\n",
      "Loss: 0.0767\n",
      "Loss: 0.0614\n",
      "Epoch 47 time:173.54\n",
      "Loss: 0.1366\n",
      "Loss: 0.0452\n",
      "Epoch 48 time:174.33\n",
      "Loss: 0.1592\n",
      "Loss: 0.0202\n",
      "Epoch 49 time:174.03\n",
      "Loss: 0.1754\n",
      "Loss: 0.0218\n",
      "Epoch 50 time:173.79\n",
      "Loss: 0.0073\n",
      "Loss: 0.0059\n",
      "Epoch 51 time:178.00\n",
      "Loss: 0.0032\n",
      "Loss: 0.0067\n",
      "Epoch 52 time:177.55\n",
      "Loss: 0.0194\n",
      "Loss: 0.1025\n",
      "Epoch 53 time:175.84\n",
      "Loss: 0.0411\n",
      "Loss: 0.105\n",
      "Epoch 54 time:174.59\n",
      "Loss: 0.0381\n",
      "Loss: 0.1011\n",
      "Epoch 55 time:176.06\n",
      "Loss: 0.0414\n",
      "Loss: 0.0197\n",
      "Epoch 56 time:174.40\n",
      "Loss: 0.0609\n",
      "Loss: 0.0368\n",
      "Epoch 57 time:180.55\n",
      "Loss: 0.0285\n",
      "Loss: 0.0212\n",
      "Epoch 58 time:178.46\n",
      "Loss: 0.0243\n",
      "Loss: 0.0696\n",
      "Epoch 59 time:176.16\n",
      "Loss: 0.0803\n",
      "Loss: 0.013\n",
      "Epoch 60 time:178.08\n",
      "Loss: 0.0069\n",
      "Loss: 0.0333\n",
      "Epoch 61 time:177.23\n",
      "Loss: 0.0955\n",
      "Loss: 0.0146\n",
      "Epoch 62 time:177.02\n",
      "Loss: 0.003\n",
      "Loss: 0.0054\n",
      "Epoch 63 time:175.75\n",
      "Loss: 0.0498\n",
      "Loss: 0.0567\n",
      "Epoch 64 time:175.36\n",
      "Loss: 0.0366\n",
      "Loss: 0.0453\n",
      "Epoch 65 time:174.34\n",
      "Loss: 0.1086\n",
      "Loss: 0.0614\n",
      "Epoch 66 time:175.81\n",
      "Loss: 0.0386\n",
      "Loss: 0.0022\n",
      "Epoch 67 time:174.96\n",
      "Loss: 0.004\n",
      "Loss: 0.0092\n",
      "Epoch 68 time:174.55\n",
      "Loss: 0.0977\n",
      "Loss: 0.1018\n",
      "Epoch 69 time:173.43\n",
      "Loss: 0.0077\n",
      "Loss: 0.003\n",
      "Epoch 70 time:175.33\n",
      "Loss: 0.0011\n",
      "Loss: 0.0336\n",
      "Epoch 71 time:173.27\n",
      "Loss: 0.0576\n",
      "Loss: 0.0304\n",
      "Epoch 72 time:176.86\n",
      "Loss: 0.0324\n",
      "Loss: 0.0613\n",
      "Epoch 73 time:175.22\n",
      "Loss: 0.0087\n",
      "Loss: 0.0497\n",
      "Epoch 74 time:176.19\n",
      "Loss: 0.0258\n",
      "Loss: 0.03\n",
      "Epoch 75 time:175.05\n",
      "Loss: 0.0026\n",
      "Loss: 0.0731\n",
      "Epoch 76 time:175.94\n",
      "Loss: 0.0052\n",
      "Loss: 0.0086\n",
      "Epoch 77 time:175.11\n",
      "Loss: 0.0022\n",
      "Loss: 0.0195\n",
      "Epoch 78 time:174.56\n",
      "Loss: 0.0411\n",
      "Loss: 0.0491\n",
      "Epoch 79 time:173.62\n",
      "Loss: 0.0177\n",
      "Loss: 0.0025\n",
      "Epoch 80 time:174.56\n",
      "Loss: 0.0036\n",
      "Loss: 0.0082\n",
      "Epoch 81 time:176.65\n",
      "Loss: 0.0112\n",
      "Loss: 0.0024\n",
      "Epoch 82 time:175.64\n",
      "Loss: 0.0029\n",
      "Loss: 0.0237\n",
      "Epoch 83 time:173.57\n",
      "Loss: 0.0358\n",
      "Loss: 0.0014\n",
      "Epoch 84 time:174.50\n",
      "Loss: 0.0029\n",
      "Loss: 0.0026\n",
      "Epoch 85 time:175.05\n",
      "Loss: 0.0017\n",
      "Loss: 0.0019\n",
      "Epoch 86 time:174.86\n",
      "Loss: 0.05\n",
      "Loss: 0.0015\n",
      "Epoch 87 time:174.72\n",
      "Loss: 0.0249\n",
      "Loss: 0.0178\n",
      "Epoch 88 time:174.88\n",
      "Loss: 0.0047\n",
      "Loss: 0.0329\n",
      "Epoch 89 time:173.23\n",
      "Loss: 0.0005\n",
      "Loss: 0.0011\n",
      "Epoch 90 time:173.71\n",
      "Loss: 0.0207\n",
      "Loss: 0.0349\n",
      "Epoch 91 time:177.66\n",
      "Loss: 0.0028\n",
      "Loss: 0.0042\n",
      "Epoch 92 time:176.60\n",
      "Loss: 0.0153\n",
      "Loss: 0.0009\n",
      "Epoch 93 time:176.17\n",
      "Loss: 0.0304\n",
      "Loss: 0.0021\n",
      "Epoch 94 time:174.79\n",
      "Loss: 0.002\n",
      "Loss: 0.0611\n",
      "Epoch 95 time:174.08\n",
      "Loss: 0.0007\n",
      "Loss: 0.0028\n",
      "Epoch 96 time:173.75\n",
      "Loss: 0.0005\n",
      "Loss: 0.0032\n",
      "Epoch 97 time:176.52\n",
      "Loss: 0.001\n",
      "Loss: 0.0016\n",
      "Epoch 98 time:173.08\n",
      "Loss: 0.0414\n",
      "Loss: 0.0028\n",
      "Epoch 99 time:175.88\n",
      "Testing...\n",
      "Test Samples come to an end!\n",
      "Testing Time:41.84\n",
      "0.659453000531\n"
     ]
    }
   ],
   "source": [
    "import time\n",
    "epochs = 100\n",
    "with tf.Session(graph=graph_birnn) as sess:\n",
    "    #Initialize parameters\n",
    "    init = tf.global_variables_initializer()\n",
    "    sess.run(init)\n",
    "    start_time = time.time()\n",
    "    for m in range(epochs):\n",
    "        for i in range(train_chunk_num):\n",
    "            #sess.run(tf.assign(learning_rate, 0.002*((0.98)**m)))\n",
    "            x, y, lengths = train_samples.generate_batch()\n",
    "            feed_dict = {train_data:x, train_label:y, train_lengths:lengths}\n",
    "            l, _ = sess.run([train_model.cost, train_model.optimize], feed_dict=feed_dict)\n",
    "            if i%100 == 0:\n",
    "                print('Loss:', round(l, 4))\n",
    "        end_time = time.time()\n",
    "        print('Epoch', m, 'time:{:.2f}'.format(end_time - start_time))\n",
    "        start_time = end_time\n",
    "    saver.save(sess,'ckpt/birnn.ckpt')\n",
    "    #Calculate Testing Accuracy\n",
    "    print('Testing...')\n",
    "    count = 0\n",
    "    test_samples = generateSamples(test_news_vecs, test_news_labels)\n",
    "    for _ in range(117):\n",
    "        #Traverse each data\n",
    "        x, y, lengths = test_samples.generate_batch(64, False)\n",
    "        feed_dict = {test_data:x, test_label:y, test_lengths:lengths}\n",
    "        n = sess.run(test_model.correct_num, feed_dict=feed_dict)\n",
    "        count += np.sum(n)\n",
    "    for _ in range(44):\n",
    "        #Traverse each data\n",
    "        x, y, lengths = test_samples.generate_batch(1, False)\n",
    "        feed_dict = {single_data:x, single_label:y, single_lengths:lengths}\n",
    "        n = sess.run(single_model.correct_num, feed_dict=feed_dict)\n",
    "        count += np.sum(n)\n",
    "    end_time = time.time()\n",
    "    print('Testing Time:{:.2f}'.format(end_time - start_time))\n",
    "    print(count*1.0/len(test_news_vecs))   \n"
   ]
  },
  {
   "cell_type": "markdown",
   "metadata": {
    "collapsed": true
   },
   "source": [
    "It works much better than one-direction RNN."
   ]
  }
 ],
 "metadata": {
  "anaconda-cloud": {},
  "kernelspec": {
   "display_name": "Python [default]",
   "language": "python",
   "name": "python3"
  },
  "language_info": {
   "codemirror_mode": {
    "name": "ipython",
    "version": 3
   },
   "file_extension": ".py",
   "mimetype": "text/x-python",
   "name": "python",
   "nbconvert_exporter": "python",
   "pygments_lexer": "ipython3",
   "version": "3.5.2"
  }
 },
 "nbformat": 4,
 "nbformat_minor": 2
}
