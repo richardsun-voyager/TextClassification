{
 "cells": [
  {
   "cell_type": "code",
   "execution_count": 1,
   "metadata": {
    "collapsed": true
   },
   "outputs": [],
   "source": [
    "import numpy as np\n",
    "import matplotlib.pyplot as plt\n",
    "import re\n",
    "import string\n",
    "import tensorflow as tf\n",
    "from collections import Counter\n",
    "%matplotlib inline"
   ]
  },
  {
   "cell_type": "markdown",
   "metadata": {},
   "source": [
    "## Data Preprocessing"
   ]
  },
  {
   "cell_type": "code",
   "execution_count": 2,
   "metadata": {
    "collapsed": false
   },
   "outputs": [],
   "source": [
    "from sklearn.datasets import fetch_20newsgroups\n",
    "newsgroups_train = fetch_20newsgroups(subset='train',\n",
    "                                  shuffle=True, random_state=11)\n",
    "newsgroups_test = fetch_20newsgroups(subset='test', \n",
    "                                  shuffle=True, random_state=11)"
   ]
  },
  {
   "cell_type": "code",
   "execution_count": 3,
   "metadata": {
    "collapsed": false
   },
   "outputs": [
    {
     "name": "stdout",
     "output_type": "stream",
     "text": [
      "Training text number: 11314\n",
      "Testing text number: 7532\n"
     ]
    }
   ],
   "source": [
    "print('Training text number:', len(newsgroups_train.data))\n",
    "print('Testing text number:', len(newsgroups_test.data))"
   ]
  },
  {
   "cell_type": "markdown",
   "metadata": {},
   "source": [
    "## News to IDs"
   ]
  },
  {
   "cell_type": "code",
   "execution_count": 4,
   "metadata": {
    "collapsed": true
   },
   "outputs": [],
   "source": [
    "from sklearn.feature_extraction.text import TfidfVectorizer\n",
    "class readNews:\n",
    "    '''\n",
    "    Read 20news and transform them into vectors for training\n",
    "    Args:\n",
    "    train_data\n",
    "    test_data\n",
    "    '''\n",
    "    def __init__(self, train_data, test_data):\n",
    "        self._train_data = train_data\n",
    "        self._test_data = test_data\n",
    "        self._preprocess()\n",
    "    \n",
    "    \n",
    "    def _preProcessor(self, s):\n",
    "        #remove punctuation\n",
    "        s = re.sub('['+string.punctuation+']', ' ', s)\n",
    "        #remove digits\n",
    "        s = re.sub('['+string.digits+']', ' ', s)\n",
    "        #remove foreign characters\n",
    "        s = re.sub('[^a-zA-Z]', ' ', s)\n",
    "        #remove line ends\n",
    "        s = re.sub('\\n', ' ', s)\n",
    "        #turn to lower case\n",
    "        s = s.lower()\n",
    "        s = re.sub('[ ]+',' ', s)\n",
    "        s = s.rstrip()\n",
    "        return s\n",
    "    \n",
    "    def _preprocess(self):\n",
    "        '''Remove punctuations'''\n",
    "        train_news = self._train_data.data\n",
    "        test_news = self._test_data.data\n",
    "        self._train_data.data = [self._preProcessor(item) for item in train_news]\n",
    "        self._test_data.data = [self._preProcessor(item) for item in test_news]\n",
    "        \n",
    "    def _tfidf_vectorizer(self):\n",
    "        ''''Vectorize news'''\n",
    "        tfidfVectorizer = TfidfVectorizer(stop_words='english', ngram_range=(1, 1), max_features=5000)\n",
    "        X_train_tfidf = tfidfVectorizer.fit_transform(self._train_data.data)\n",
    "        X_test_tfidf = tfidfVectorizer.transform(self._test_data.data)\n",
    "        vocab_index_dict = tfidfVectorizer.vocabulary_\n",
    "        return X_train_tfidf, X_test_tfidf, vocab_index_dict\n",
    "    \n",
    "    def tfidf_weight(self):\n",
    "        '''Calculate TfIdf weights for each word within each news'''\n",
    "        train_news_words, test_news_words = self._news2words()\n",
    "        X_train_tfidf, X_test_tfidf, vocab_index_dict = self._tfidf_vectorizer()\n",
    "        train_weights = []\n",
    "        test_weights = []\n",
    "        #Generate dicts for words and corresponding tfidf weights\n",
    "        for i, news in enumerate(train_news_words):\n",
    "            word_weight = []\n",
    "            for word in news:\n",
    "                try:\n",
    "                    word_index = vocab_index_dict.get(word)\n",
    "                    w = X_train_tfidf[i, word_index]\n",
    "                    word_weight.append(w)\n",
    "                except:\n",
    "                    word_weight.append(0)\n",
    "            train_weights.append(word_weight)\n",
    "        for i, news in enumerate(test_news_words):\n",
    "            word_weight = []\n",
    "            for word in news:\n",
    "                try:\n",
    "                    word_index = vocab_index_dict.get(word)\n",
    "                    w = X_test_tfidf[i, word_index]\n",
    "                    word_weight.append(w)\n",
    "                except:\n",
    "                    word_weight.append(0)\n",
    "            test_weights.append(word_weight)      \n",
    "        return train_weights, test_weights\n",
    "    \n",
    "    def _news2words(self):\n",
    "        #Split each news into words\n",
    "        train_news_words = []\n",
    "        test_news_words = []\n",
    "        for news in self._train_data.data:\n",
    "           #Collect words for each news\n",
    "           train_news_words.append(news.split())\n",
    "        for news in self._test_data.data:\n",
    "            test_news_words.append(news.split())\n",
    "        return train_news_words, test_news_words\n",
    "    \n",
    "    def buildVocab(self):\n",
    "        words = []\n",
    "        for news in self._train_data.data:\n",
    "           #Collect all the chars\n",
    "           words.extend(news.split())\n",
    "        #Calculate frequencies of each character\n",
    "        word_freq = Counter(words)\n",
    "        #Filter out those low frequency characters\n",
    "        vocab = [u for u,v in word_freq.items() if v>3]\n",
    "        if 'UNK' not in vocab:\n",
    "            vocab.append('UNK')\n",
    "        #Map each char into an ID\n",
    "        word_id_map = dict(zip(vocab, range(len(vocab))))\n",
    "        #Map each ID into a word\n",
    "        id_word_map = dict(zip(word_id_map.values(), word_id_map.keys()))\n",
    "        return vocab, word_id_map, id_word_map\n",
    "    \n",
    "    def news2vecs(self):\n",
    "        #Map each word into an ID\n",
    "        train_news_words, test_news_words = self._news2words()\n",
    "        vocab, word_id_map, id_word_mapp = self.buildVocab()\n",
    "        def word2id(c):\n",
    "            try:\n",
    "               ID = word_id_map[c]\n",
    "            except:#Trun those less frequent words into UNK\n",
    "               ID = word_id_map['UNK']\n",
    "            return ID\n",
    "        #Turn each news into a list of word Ids\n",
    "        words_vecs = lambda words: [word2id(w) for w in words]\n",
    "        train_news_vecs = [words_vecs(words) for words in train_news_words]\n",
    "        train_news_labels = self._train_data.target\n",
    "        test_news_vecs = [words_vecs(words) for words in test_news_words]\n",
    "        test_news_labels = self._test_data.target\n",
    "        return train_news_vecs, train_news_labels, test_news_vecs, test_news_labels"
   ]
  },
  {
   "cell_type": "code",
   "execution_count": 5,
   "metadata": {
    "collapsed": false
   },
   "outputs": [],
   "source": [
    "#Create a readnews object\n",
    "rn = readNews(newsgroups_train, newsgroups_test)\n",
    "train_news_vecs, train_news_labels, test_news_vecs, test_news_labels = rn.news2vecs()"
   ]
  },
  {
   "cell_type": "code",
   "execution_count": 27,
   "metadata": {
    "collapsed": true
   },
   "outputs": [],
   "source": [
    "#Record tfidf weights for each word in each news\n",
    "train_weights, test_weights = rn.tfidf_weight()"
   ]
  },
  {
   "cell_type": "code",
   "execution_count": 28,
   "metadata": {
    "collapsed": true
   },
   "outputs": [],
   "source": [
    "#Get the vocabulary and dictionary of words as well as corresponding ids\n",
    "vocab, word_id_map, id_word_map = rn.buildVocab()"
   ]
  },
  {
   "cell_type": "code",
   "execution_count": 29,
   "metadata": {
    "collapsed": true
   },
   "outputs": [],
   "source": [
    "def word2id(c):\n",
    "    try:\n",
    "        ID = word_id_map[c]\n",
    "    except:#Trun those less frequent words into UNK\n",
    "        ID = word_id_map['UNK']\n",
    "    return ID\n",
    "def id2word(c):\n",
    "    try:\n",
    "        word = id_word_map[c]\n",
    "    except:\n",
    "        word='UNK'\n",
    "    return word"
   ]
  },
  {
   "cell_type": "code",
   "execution_count": 30,
   "metadata": {
    "collapsed": false
   },
   "outputs": [
    {
     "name": "stdout",
     "output_type": "stream",
     "text": [
      "Min Length 17\n",
      "Max Length 15804\n",
      "Median Length 184.0\n"
     ]
    }
   ],
   "source": [
    "train_news_length = [len(news) for news in train_news_vecs]\n",
    "print('Min Length', np.amin(train_news_length))\n",
    "print('Max Length', np.max(train_news_length))\n",
    "print('Median Length', np.median(train_news_length))"
   ]
  },
  {
   "cell_type": "code",
   "execution_count": 31,
   "metadata": {
    "collapsed": false
   },
   "outputs": [
    {
     "data": {
      "text/plain": [
       "array([  17.,  116.,  184.,  301.,  509.,  769.])"
      ]
     },
     "execution_count": 31,
     "metadata": {},
     "output_type": "execute_result"
    }
   ],
   "source": [
    "np.percentile(train_news_length, [0, 25, 50, 75, 90, 95])"
   ]
  },
  {
   "cell_type": "markdown",
   "metadata": {},
   "source": [
    "It seems the length varies much, perhaps we need buckets to put news with similar lengths together."
   ]
  },
  {
   "cell_type": "markdown",
   "metadata": {},
   "source": [
    "## Create Batch Data Generator"
   ]
  },
  {
   "cell_type": "code",
   "execution_count": 66,
   "metadata": {
    "collapsed": false
   },
   "outputs": [],
   "source": [
    "import random\n",
    "class generateSamples:\n",
    "    '''Generate samples for training and testing'''\n",
    "    \n",
    "    def __init__(self, news_vecs, news_labels, weights, max_len=800):\n",
    "        '''Pass batch size and poems vectors'''\n",
    "        self.index = 0\n",
    "        self.news_vecs = news_vecs\n",
    "        self.news_labels = news_labels\n",
    "        self.weights= weights\n",
    "        self.news_count = len(news_vecs)\n",
    "        self.max_news_len = max_len\n",
    "        \n",
    "    def generate_batch(self, batch_size=64, is_training=True):\n",
    "        '''Generate a training sample each time'''\n",
    "        \n",
    "        selected_samples = []\n",
    "        selected_labels = []\n",
    "        batch_weights = []\n",
    "        #For training, select random samples\n",
    "        if is_training:\n",
    "            selected_index = np.random.choice(len(self.news_vecs), batch_size, replace=True)\n",
    "            for index in selected_index:\n",
    "                selected_samples.append(self.news_vecs[index])\n",
    "                selected_labels.append(self.news_labels[index])\n",
    "                batch_weights.append(self.weights[index])\n",
    "        #For testing, select a few samples each time\n",
    "        else:#Testing model\n",
    "            start = self.index%self.news_count\n",
    "            end = (start + batch_size)%self.news_count\n",
    "            #In case end goes beyong the range of the samples\n",
    "            if end > start:\n",
    "                selected_samples = self.news_vecs[start: end]\n",
    "                selected_labels = self.news_labels[start: end]\n",
    "                #record weights\n",
    "                batch_weights = self.weights[start:end]\n",
    "                self.index = end\n",
    "            else:\n",
    "                print('Test Samples come to an end!')\n",
    "                selected_samples = self.news_vecs[start: ]\n",
    "                #record weights\n",
    "                batch_weights = self.weights[start:]\n",
    "                selected_labels = self.news_labels[start: ]\n",
    "                self.index = 0\n",
    "            \n",
    "        #Set the max lengths as the size of the input\n",
    "        #max_len = max(map(len, data))\n",
    "        #Record lengths for each text\n",
    "        lengths = [len(item) for item in selected_samples]\n",
    "        lengths = np.array(lengths)\n",
    "        #Get the max length in current batch\n",
    "        max_len = max(lengths)\n",
    "        max_len = self.max_news_len if max_len > self.max_news_len else max_len\n",
    "\n",
    "        #Create input and label\n",
    "        x = np.full((batch_size, max_len), word2id('UNK'), np.int32)\n",
    "        w = np.full((batch_size, max_len), 0, np.float32)\n",
    "        y = np.zeros(batch_size)\n",
    "        for i in range(batch_size):\n",
    "            #the first n elements as input\n",
    "            if len(selected_samples[i]) < max_len:\n",
    "                x[i, :len(selected_samples[i])] = selected_samples[i]\n",
    "                w[i, :len(selected_samples[i])] = batch_weights[i]\n",
    "                y[i] = selected_labels[i]\n",
    "            #If the news is very long\n",
    "            #Cut it to the max_news_len\n",
    "            else:\n",
    "                x[i, :] = selected_samples[i][:max_len]\n",
    "                w[i, :] = batch_weights[i][:max_len]\n",
    "                y[i] = selected_labels[i]\n",
    "        return x, y, lengths, w\n",
    "    "
   ]
  },
  {
   "cell_type": "markdown",
   "metadata": {},
   "source": [
    "From the data exploration, it is clear that the length of the news varies much, ranging from 10 to 10000. In order to deal with that case, we can take buckets into consideration, similar to seq2seq model."
   ]
  },
  {
   "cell_type": "code",
   "execution_count": 67,
   "metadata": {
    "collapsed": false
   },
   "outputs": [],
   "source": [
    "class trainConfig:\n",
    "    vocab_size = len(vocab)\n",
    "    max_doc_len = max(map(len, train_news_vecs))\n",
    "    label_size = 20\n",
    "    embed_size = 128\n",
    "    batch_size = 64\n",
    "    layer_size = 2"
   ]
  },
  {
   "cell_type": "code",
   "execution_count": 68,
   "metadata": {
    "collapsed": false
   },
   "outputs": [],
   "source": [
    "class testConfig:\n",
    "    vocab_size = len(vocab)\n",
    "    max_doc_len = max(map(len, train_news_vecs))\n",
    "    label_size = 20\n",
    "    embed_size = 128\n",
    "    batch_size = 64\n",
    "    layer_size = 2\n",
    "    \n",
    "class singleConfig:\n",
    "    vocab_size = len(vocab)\n",
    "    max_doc_len = max(map(len, train_news_vecs))\n",
    "    label_size = 20\n",
    "    embed_size = 128\n",
    "    batch_size = 1\n",
    "    layer_size = 2"
   ]
  },
  {
   "cell_type": "code",
   "execution_count": 69,
   "metadata": {
    "collapsed": false
   },
   "outputs": [
    {
     "data": {
      "text/plain": [
       "44"
      ]
     },
     "execution_count": 69,
     "metadata": {},
     "output_type": "execute_result"
    }
   ],
   "source": [
    "train_chunk_num = int(len(train_news_vecs)/trainConfig.batch_size)\n",
    "test_chunk_num = int(len(test_news_vecs)/trainConfig.batch_size)\n",
    "remain_num = len(test_news_labels) - trainConfig.batch_size*test_chunk_num\n",
    "remain_num"
   ]
  },
  {
   "cell_type": "code",
   "execution_count": 70,
   "metadata": {
    "collapsed": false
   },
   "outputs": [],
   "source": [
    "train_samples = generateSamples(train_news_vecs, train_news_labels, train_weights)"
   ]
  },
  {
   "cell_type": "code",
   "execution_count": 71,
   "metadata": {
    "collapsed": false
   },
   "outputs": [],
   "source": [
    "test_samples = generateSamples(test_news_vecs, test_news_labels, test_weights)"
   ]
  },
  {
   "cell_type": "code",
   "execution_count": 72,
   "metadata": {
    "collapsed": false
   },
   "outputs": [],
   "source": [
    "x, y, lengths, w = train_samples.generate_batch()"
   ]
  },
  {
   "cell_type": "code",
   "execution_count": 73,
   "metadata": {
    "collapsed": true
   },
   "outputs": [],
   "source": [
    "x, y, lengths, w = test_samples.generate_batch()"
   ]
  },
  {
   "cell_type": "markdown",
   "metadata": {},
   "source": [
    "## Dynamic RNN Model\n",
    "\n",
    "In this model, we first transform each news as a series of word vectors. Then we put the series of news into a RNN system to get the final state vectors. Next, we do classification based on the news vectors."
   ]
  },
  {
   "cell_type": "code",
   "execution_count": 40,
   "metadata": {
    "collapsed": true
   },
   "outputs": [],
   "source": [
    "import functools\n",
    "from tensorflow.contrib.layers.python.layers import encoders\n",
    "def lazy_property(function):\n",
    "    attribute = '_cache_' + function.__name__\n",
    "\n",
    "    @property\n",
    "    @functools.wraps(function)\n",
    "    def decorator(self):\n",
    "        if not hasattr(self, attribute):\n",
    "            setattr(self, attribute, function(self))\n",
    "        return getattr(self, attribute)\n",
    "\n",
    "    return decorator"
   ]
  },
  {
   "cell_type": "code",
   "execution_count": 41,
   "metadata": {
    "collapsed": false
   },
   "outputs": [],
   "source": [
    "#Reference:http://blog.csdn.net/u010223750/article/details/71079036\n",
    "from tensorflow.contrib import rnn\n",
    "class RNN_Model:\n",
    "    def __init__(self, config, x, y, lengths, is_training=True):\n",
    "        self.x = x\n",
    "        self.y = y\n",
    "        self.vocab_size = config.vocab_size\n",
    "        self.embed_size = config.embed_size\n",
    "        self.label_size = config.label_size\n",
    "        self.batch_size = config.batch_size\n",
    "        self.lengths = lengths\n",
    "        self.max_doc_len = config.max_doc_len\n",
    "        self.is_training = is_training\n",
    "        self.predict\n",
    "        if is_training:\n",
    "            self.optimize\n",
    "        print('Model Initialized!')\n",
    "    \n",
    "    @lazy_property\n",
    "    def cost(self):\n",
    "        logits = self.inference\n",
    "        targets = tf.one_hot(self.y, 20, 1, 0)\n",
    "        targets = tf.cast(targets, tf.float32)\n",
    "        #Note  tf.nn.softmax_cross_entropy_with_logits(labels=Y, logits=activation)\n",
    "        loss = tf.losses.softmax_cross_entropy(targets, logits)\n",
    "        return loss\n",
    "    \n",
    "    @lazy_property\n",
    "    def predict(self):\n",
    "        logits = self.inference\n",
    "        #probs = tf.nn.softmax(logits)\n",
    "        predictions = tf.argmax(logits, 1)\n",
    "        return predictions\n",
    "    \n",
    "    @lazy_property\n",
    "    def correct_num(self):\n",
    "        prediction = self.predict\n",
    "        targets = tf.reshape(self.y, [-1])\n",
    "        targets = tf.cast(targets, tf.int64)\n",
    "        correct_prediction = tf.equal(prediction, targets)\n",
    "        correct_num = tf.reduce_sum(tf.cast(correct_prediction, \"float\"))\n",
    "        return correct_num\n",
    "    \n",
    "    @lazy_property\n",
    "    def optimize(self):\n",
    "        with tf.variable_scope('optimizer'):\n",
    "            cost = self.cost\n",
    "        #with tf.name_scope('Optimizer'):\n",
    "            #self._learning_rate = tf.Variable(0.0, trainable=False)\n",
    "            train_op = tf.train.AdamOptimizer(0.0005).minimize(cost)\n",
    "            #train_op = tf.train.AdamOptimizer(self._learning_rate).minimize(cost)\n",
    "            #tvars = tf.trainable_variables()\n",
    "            #grads, _ = tf.clip_by_global_norm(tf.gradients(cost, tvars), 6)\n",
    "            #optimizer = tf.train.AdamOptimizer(self._learning_rate)\n",
    "            #train_op = optimizer.apply_gradients(zip(grads, tvars))\n",
    "        return train_op\n",
    "    \n",
    "    @lazy_property\n",
    "    def inference(self):\n",
    "        #Create embedding matrix\n",
    "        with tf.device(\"/cpu:0\"):\n",
    "            embeddings = tf.get_variable('embedding', [self.vocab_size,  self.embed_size])\n",
    "            inputs = tf.nn.embedding_lookup(embeddings, self.x)\n",
    "        if self.is_training:\n",
    "            inputs = tf.nn.dropout(inputs, 0.5)\n",
    "\n",
    "        #slice inputs into a series of vectors\n",
    "        #batch_doc_vectors = tf.unstack(inputs, axis=0)\n",
    "        def lstm():\n",
    "            return rnn.BasicLSTMCell(self.embed_size, forget_bias=0.0, \n",
    "                                      state_is_tuple=True) \n",
    "        lstm_cell = lstm\n",
    "        cell = rnn.MultiRNNCell([lstm_cell() for _ in range(2)], \n",
    "                                state_is_tuple=True)\n",
    "        initial_state = cell.zero_state(self.batch_size, tf.float32)\n",
    "        #Dynamic RNN with given lengths for each text\n",
    "        #status = initial_state\n",
    "        #inputs = tf.nn.dropout(inputs, 0.8)\n",
    "        outputs, status = tf.nn.dynamic_rnn(cell, inputs, initial_state=initial_state,\n",
    "                                            sequence_length=self.lengths, dtype=tf.float32)\n",
    "        #output = outputs[:,-1,:]\n",
    "        #If we use padding, the last output will be based on the padding input values\n",
    "        #Note here we use the hidden state instead of the last output\n",
    "        #In dynamic rnn, the last state will remain the same after specified time steps\n",
    "        #For example, if the length is 10 and the padding sequence has 20 words, the \n",
    "        #final state will be the one of 10th time step\n",
    "        output = status[1].h\n",
    "        \n",
    "        \n",
    "        weights = tf.get_variable('weights', [self.embed_size, self.label_size], dtype=tf.float32)\n",
    "        biases = tf.get_variable('biases', [self.label_size], dtype=tf.float32)\n",
    "        logits = tf.matmul(output, weights) + biases\n",
    "        #预测值\n",
    "        return logits\n",
    "    \n",
    "    @property\n",
    "    def learningRate(self):\n",
    "        return self._learning_rate\n",
    "        "
   ]
  },
  {
   "cell_type": "code",
   "execution_count": 61,
   "metadata": {
    "collapsed": false
   },
   "outputs": [
    {
     "name": "stdout",
     "output_type": "stream",
     "text": [
      "Model Initialized!\n",
      "Model Initialized!\n",
      "Model Initialized!\n"
     ]
    }
   ],
   "source": [
    "graph_rnn = tf.Graph()\n",
    "#Create models for training and testing data\n",
    "with graph_rnn.as_default():\n",
    "    initializer = tf.random_uniform_initializer(-0.02, 0.02)\n",
    "    with tf.name_scope('train'):\n",
    "        train_data = tf.placeholder(tf.int32, [trainConfig.batch_size, None])\n",
    "        train_label = tf.placeholder(tf.int32, [trainConfig.batch_size])\n",
    "        train_weight = tf.placeholder(tf.float32, [trainConfig.batch_size, None])\n",
    "        train_lengths = tf.placeholder(tf.float32, [trainConfig.batch_size])\n",
    "        #Set different models for different buckets\n",
    "        with tf.variable_scope(\"Model\", reuse=None, initializer=initializer):\n",
    "            train_model = RNN_Model(trainConfig, train_data, train_label, train_lengths)\n",
    "    with tf.name_scope('test'):\n",
    "        test_data = tf.placeholder(tf.int32, [testConfig.batch_size, None])\n",
    "        test_label = tf.placeholder(tf.int32, [testConfig.batch_size])\n",
    "        test_weight = tf.placeholder(tf.float32, [testConfig.batch_size, None])\n",
    "        test_lengths = tf.placeholder(tf.float32, [testConfig.batch_size])\n",
    "        single_data = tf.placeholder(tf.int32, [singleConfig.batch_size, None])\n",
    "        single_label = tf.placeholder(tf.int32, [singleConfig.batch_size])\n",
    "        single_weight = tf.placeholder(tf.float32, [singleConfig.batch_size, None])\n",
    "        single_lengths = tf.placeholder(tf.float32, [singleConfig.batch_size])\n",
    "        #Set different models for different buckets\n",
    "        with tf.variable_scope(\"Model\", reuse=True, initializer=initializer):\n",
    "            test_model = RNN_Model(testConfig, test_data, test_label, test_lengths, False)\n",
    "            single_model = RNN_Model(singleConfig, single_data, single_label, single_lengths, False)"
   ]
  },
  {
   "cell_type": "code",
   "execution_count": 62,
   "metadata": {
    "collapsed": false
   },
   "outputs": [
    {
     "data": {
      "text/plain": [
       "117.6875"
      ]
     },
     "execution_count": 62,
     "metadata": {},
     "output_type": "execute_result"
    }
   ],
   "source": [
    "len(test_news_vecs)/64"
   ]
  },
  {
   "cell_type": "code",
   "execution_count": 63,
   "metadata": {
    "collapsed": false
   },
   "outputs": [
    {
     "data": {
      "text/plain": [
       "44"
      ]
     },
     "execution_count": 63,
     "metadata": {},
     "output_type": "execute_result"
    }
   ],
   "source": [
    "len(test_news_vecs) - 64*117"
   ]
  },
  {
   "cell_type": "code",
   "execution_count": 77,
   "metadata": {
    "collapsed": false
   },
   "outputs": [
    {
     "name": "stdout",
     "output_type": "stream",
     "text": [
      "Loss: 2.9958\n",
      "Loss: 2.9648\n",
      "Epoch 0 time:221.91\n",
      "Loss: 2.6392\n",
      "Loss: 2.8973\n",
      "Epoch 1 time:226.51\n",
      "Loss: 2.955\n",
      "Loss: 3.0189\n",
      "Epoch 2 time:218.47\n",
      "Loss: 2.9822\n",
      "Loss: 2.9786\n",
      "Epoch 3 time:218.57\n",
      "Loss: 2.9889\n",
      "Loss: 2.8738\n",
      "Epoch 4 time:217.64\n",
      "Loss: 2.7709\n",
      "Loss: 2.9402\n",
      "Epoch 5 time:217.64\n",
      "Loss: 2.5416\n",
      "Loss: 2.5819\n",
      "Epoch 6 time:218.86\n",
      "Loss: 2.4144\n",
      "Loss: 2.5808\n",
      "Epoch 7 time:218.42\n",
      "Loss: 2.4039\n",
      "Loss: 2.3519\n",
      "Epoch 8 time:218.80\n",
      "Loss: 2.2733\n",
      "Loss: 2.37\n",
      "Epoch 9 time:217.70\n",
      "Loss: 2.0727\n",
      "Loss: 2.1018\n",
      "Epoch 10 time:218.18\n",
      "Loss: 2.0456\n",
      "Loss: 1.8762\n",
      "Epoch 11 time:215.37\n",
      "Loss: 1.936\n",
      "Loss: 1.9432\n",
      "Epoch 12 time:216.08\n",
      "Loss: 1.7904\n",
      "Loss: 1.7866\n",
      "Epoch 13 time:217.22\n",
      "Loss: 1.6741\n",
      "Loss: 1.7231\n",
      "Epoch 14 time:216.43\n",
      "Loss: 1.6357\n",
      "Loss: 1.7417\n",
      "Epoch 15 time:217.16\n",
      "Loss: 1.6384\n",
      "Loss: 1.6011\n",
      "Epoch 16 time:216.35\n",
      "Loss: 1.5763\n",
      "Loss: 1.5897\n",
      "Epoch 17 time:217.24\n",
      "Loss: 1.4186\n",
      "Loss: 1.4978\n",
      "Epoch 18 time:217.73\n",
      "Loss: 1.6517\n",
      "Loss: 2.0136\n",
      "Epoch 19 time:217.04\n",
      "Loss: 1.8003\n",
      "Loss: 1.5155\n",
      "Epoch 20 time:215.28\n",
      "Loss: 1.4539\n",
      "Loss: 1.4344\n",
      "Epoch 21 time:216.40\n",
      "Loss: 1.5725\n",
      "Loss: 1.4334\n",
      "Epoch 22 time:221.28\n",
      "Loss: 1.4926\n",
      "Loss: 1.1879\n",
      "Epoch 23 time:218.57\n",
      "Loss: 1.4151\n",
      "Loss: 1.3616\n",
      "Epoch 24 time:215.26\n",
      "Loss: 1.2649\n",
      "Loss: 1.8009\n",
      "Epoch 25 time:218.21\n",
      "Loss: 1.2778\n",
      "Loss: 1.4318\n",
      "Epoch 26 time:223.75\n",
      "Loss: 2.5862\n",
      "Loss: 1.3899\n",
      "Epoch 27 time:217.61\n",
      "Loss: 1.3934\n",
      "Loss: 1.5529\n",
      "Epoch 28 time:219.56\n",
      "Loss: 1.4191\n",
      "Loss: 1.3274\n",
      "Epoch 29 time:218.16\n",
      "Loss: 1.2204\n",
      "Loss: 1.1863\n",
      "Epoch 30 time:216.83\n",
      "Loss: 1.103\n",
      "Loss: 1.1979\n",
      "Epoch 31 time:220.56\n",
      "Loss: 1.1522\n",
      "Loss: 1.258\n",
      "Epoch 32 time:217.46\n",
      "Loss: 0.9739\n",
      "Loss: 0.8588\n",
      "Epoch 33 time:217.55\n",
      "Loss: 0.92\n",
      "Loss: 1.2792\n",
      "Epoch 34 time:217.51\n",
      "Loss: 1.2398\n",
      "Loss: 0.9319\n",
      "Epoch 35 time:220.16\n",
      "Loss: 1.0865\n",
      "Loss: 0.8957\n",
      "Epoch 36 time:219.11\n",
      "Loss: 0.931\n",
      "Loss: 1.0076\n",
      "Epoch 37 time:219.83\n",
      "Loss: 0.8243\n",
      "Loss: 0.8274\n",
      "Epoch 38 time:218.47\n",
      "Loss: 0.6145\n",
      "Loss: 0.7891\n",
      "Epoch 39 time:219.42\n",
      "Loss: 0.7238\n",
      "Loss: 0.7278\n",
      "Epoch 40 time:219.22\n",
      "Loss: 0.7861\n",
      "Loss: 0.6958\n",
      "Epoch 41 time:219.25\n",
      "Loss: 0.5402\n",
      "Loss: 0.6332\n",
      "Epoch 42 time:215.59\n",
      "Loss: 0.5137\n",
      "Loss: 0.864\n",
      "Epoch 43 time:214.58\n",
      "Loss: 0.9488\n",
      "Loss: 0.762\n",
      "Epoch 44 time:213.38\n",
      "Loss: 0.3716\n",
      "Loss: 0.4551\n",
      "Epoch 45 time:213.50\n",
      "Loss: 0.67\n",
      "Loss: 0.5747\n",
      "Epoch 46 time:212.60\n",
      "Loss: 0.423\n",
      "Loss: 0.3816\n",
      "Epoch 47 time:213.31\n",
      "Loss: 0.2887\n",
      "Loss: 0.4943\n",
      "Epoch 48 time:213.67\n",
      "Loss: 0.4056\n",
      "Loss: 0.4086\n",
      "Epoch 49 time:214.26\n",
      "Loss: 0.181\n",
      "Loss: 0.3546\n",
      "Epoch 50 time:213.48\n",
      "Loss: 0.3727\n",
      "Loss: 0.379\n",
      "Epoch 51 time:213.54\n",
      "Loss: 0.3093\n",
      "Loss: 0.4382\n",
      "Epoch 52 time:212.55\n",
      "Loss: 0.3871\n",
      "Loss: 0.2291\n",
      "Epoch 53 time:213.14\n",
      "Loss: 0.2149\n",
      "Loss: 0.3773\n",
      "Epoch 54 time:214.49\n",
      "Loss: 0.3473\n",
      "Loss: 0.2811\n",
      "Epoch 55 time:213.86\n",
      "Loss: 0.2173\n",
      "Loss: 0.2061\n",
      "Epoch 56 time:213.16\n",
      "Loss: 0.2099\n",
      "Loss: 0.6999\n",
      "Epoch 57 time:213.27\n",
      "Loss: 0.2647\n",
      "Loss: 0.1244\n",
      "Epoch 58 time:212.98\n",
      "Loss: 0.137\n",
      "Loss: 0.339\n",
      "Epoch 59 time:213.69\n",
      "Loss: 0.2158\n",
      "Loss: 0.0973\n",
      "Epoch 60 time:213.24\n",
      "Loss: 0.2347\n",
      "Loss: 0.4583\n",
      "Epoch 61 time:213.75\n",
      "Loss: 0.1629\n",
      "Loss: 0.2033\n",
      "Epoch 62 time:214.41\n",
      "Loss: 0.4537\n",
      "Loss: 0.1176\n",
      "Epoch 63 time:213.74\n",
      "Loss: 0.2141\n",
      "Loss: 0.1991\n",
      "Epoch 64 time:214.31\n",
      "Loss: 0.1357\n",
      "Loss: 0.1304\n",
      "Epoch 65 time:212.99\n",
      "Loss: 0.1727\n",
      "Loss: 0.1334\n",
      "Epoch 66 time:213.82\n",
      "Loss: 0.1083\n",
      "Loss: 0.0772\n",
      "Epoch 67 time:214.22\n",
      "Loss: 0.0874\n",
      "Loss: 0.3251\n",
      "Epoch 68 time:213.33\n",
      "Loss: 0.1287\n",
      "Loss: 0.1183\n",
      "Epoch 69 time:212.99\n",
      "Loss: 0.1745\n",
      "Loss: 0.0435\n",
      "Epoch 70 time:213.89\n",
      "Loss: 0.0476\n",
      "Loss: 0.0708\n",
      "Epoch 71 time:213.98\n",
      "Loss: 0.0281\n",
      "Loss: 0.1138\n",
      "Epoch 72 time:214.63\n",
      "Loss: 0.1089\n",
      "Loss: 0.1609\n",
      "Epoch 73 time:213.16\n",
      "Loss: 0.0739\n",
      "Loss: 0.0577\n",
      "Epoch 74 time:214.24\n",
      "Loss: 0.0466\n",
      "Loss: 0.0328\n",
      "Epoch 75 time:3099.06\n",
      "Loss: 0.0158\n",
      "Loss: 0.0391\n",
      "Epoch 76 time:214.99\n",
      "Loss: 0.1021\n",
      "Loss: 0.1595\n",
      "Epoch 77 time:213.96\n",
      "Loss: 0.0534\n",
      "Loss: 0.1312\n",
      "Epoch 78 time:218.00\n",
      "Loss: 0.0312\n",
      "Loss: 0.1382\n",
      "Epoch 79 time:221.41\n",
      "Loss: 0.0801\n",
      "Loss: 0.1306\n",
      "Epoch 80 time:215.86\n",
      "Loss: 0.0449\n",
      "Loss: 0.0521\n",
      "Epoch 81 time:216.13\n",
      "Loss: 0.0399\n",
      "Loss: 0.0901\n",
      "Epoch 82 time:214.57\n",
      "Loss: 0.1187\n",
      "Loss: 0.1057\n",
      "Epoch 83 time:214.90\n",
      "Loss: 0.026\n",
      "Loss: 0.0457\n",
      "Epoch 84 time:217.04\n",
      "Loss: 0.0304\n",
      "Loss: 0.0578\n",
      "Epoch 85 time:218.02\n",
      "Loss: 0.0191\n",
      "Loss: 0.0825\n",
      "Epoch 86 time:217.67\n",
      "Loss: 0.3387\n",
      "Loss: 0.0657\n",
      "Epoch 87 time:221.68\n",
      "Loss: 0.0139\n",
      "Loss: 0.0127\n",
      "Epoch 88 time:219.92\n",
      "Loss: 0.0236\n",
      "Loss: 0.1551\n",
      "Epoch 89 time:216.75\n",
      "Loss: 0.1039\n",
      "Loss: 0.0341\n",
      "Epoch 90 time:215.44\n",
      "Loss: 0.0593\n",
      "Loss: 0.0655\n",
      "Epoch 91 time:217.18\n",
      "Loss: 0.0178\n",
      "Loss: 0.0329\n",
      "Epoch 92 time:216.73\n",
      "Loss: 0.026\n",
      "Loss: 0.0073\n",
      "Epoch 93 time:216.06\n",
      "Loss: 0.1007\n",
      "Loss: 0.1195\n",
      "Epoch 94 time:218.27\n",
      "Loss: 0.057\n",
      "Loss: 0.0479\n",
      "Epoch 95 time:217.57\n",
      "Loss: 0.025\n",
      "Loss: 0.0106\n",
      "Epoch 96 time:216.61\n",
      "Loss: 0.0151\n",
      "Loss: 0.0222\n",
      "Epoch 97 time:215.73\n",
      "Loss: 0.0091\n",
      "Loss: 0.0544\n",
      "Epoch 98 time:216.46\n",
      "Loss: 0.0361\n",
      "Loss: 0.0184\n",
      "Epoch 99 time:217.02\n",
      "Testing...\n",
      "Test Samples come to an end!\n",
      "Testing Time:51.92\n",
      "0.487254381306\n"
     ]
    }
   ],
   "source": [
    "import time\n",
    "epochs = 100\n",
    "with tf.Session(graph=graph_rnn) as sess:\n",
    "    #Initialize parameters\n",
    "    init = tf.global_variables_initializer()\n",
    "    sess.run(init)\n",
    "    start_time = time.time()\n",
    "    for m in range(epochs):\n",
    "        for i in range(train_chunk_num):\n",
    "            #sess.run(tf.assign(learning_rate, 0.002*((0.98)**m)))\n",
    "            x, y, lengths, w = train_samples.generate_batch()\n",
    "            feed_dict = {train_data:x, train_label:y, train_lengths:lengths}\n",
    "            l, _ = sess.run([train_model.cost, train_model.optimize], feed_dict=feed_dict)\n",
    "            if i%100 == 0:\n",
    "                print('Loss:', round(l, 4))\n",
    "        end_time = time.time()\n",
    "        print('Epoch', m, 'time:{:.2f}'.format(end_time - start_time))\n",
    "        start_time = end_time\n",
    "    #Calculate Testing Accuracy\n",
    "    print('Testing...')\n",
    "    count = 0\n",
    "    test_samples = generateSamples(test_news_vecs, test_news_labels, test_weights)\n",
    "    for _ in range(117):\n",
    "        #Traverse each data\n",
    "        x, y, lengths, w = test_samples.generate_batch(64, False)\n",
    "        feed_dict = {test_data:x, test_label:y, test_lengths:lengths}\n",
    "        n = sess.run(test_model.correct_num, feed_dict=feed_dict)\n",
    "        count += np.sum(n)\n",
    "    for _ in range(44):\n",
    "        #Traverse each data\n",
    "        x, y, lengths, w = test_samples.generate_batch(1, False)\n",
    "        feed_dict = {single_data:x, single_label:y, single_lengths:lengths}\n",
    "        n = sess.run(single_model.correct_num, feed_dict=feed_dict)\n",
    "        count += np.sum(n)\n",
    "    end_time = time.time()\n",
    "    print('Testing Time:{:.2f}'.format(end_time - start_time))\n",
    "    print(count*1.0/len(test_news_vecs))   \n"
   ]
  },
  {
   "cell_type": "code",
   "execution_count": null,
   "metadata": {
    "collapsed": true
   },
   "outputs": [],
   "source": []
  }
 ],
 "metadata": {
  "anaconda-cloud": {},
  "kernelspec": {
   "display_name": "Python [default]",
   "language": "python",
   "name": "python3"
  },
  "language_info": {
   "codemirror_mode": {
    "name": "ipython",
    "version": 3
   },
   "file_extension": ".py",
   "mimetype": "text/x-python",
   "name": "python",
   "nbconvert_exporter": "python",
   "pygments_lexer": "ipython3",
   "version": "3.5.2"
  }
 },
 "nbformat": 4,
 "nbformat_minor": 2
}
